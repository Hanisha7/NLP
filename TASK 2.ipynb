{
 "cells": [
  {
   "cell_type": "code",
   "execution_count": 1,
   "id": "598740dd",
   "metadata": {},
   "outputs": [],
   "source": [
    "#Frequency Distribution"
   ]
  },
  {
   "cell_type": "code",
   "execution_count": 5,
   "id": "a23ffca7",
   "metadata": {},
   "outputs": [],
   "source": [
    "import nltk\n",
    "text1='The basis for the work is Melvilles 1841 whaling voyage'"
   ]
  },
  {
   "cell_type": "code",
   "execution_count": 6,
   "id": "7883c826",
   "metadata": {},
   "outputs": [
    {
     "data": {
      "text/plain": [
       "FreqDist({'The': 1, 'basis': 1, 'for': 1, 'the': 1, 'work': 1, 'is': 1, 'Melvilles': 1, '1841': 1, 'whaling': 1, 'voyage': 1})"
      ]
     },
     "execution_count": 6,
     "metadata": {},
     "output_type": "execute_result"
    }
   ],
   "source": [
    "fd=nltk.FreqDist(text1.split())\n",
    "fd"
   ]
  },
  {
   "cell_type": "code",
   "execution_count": 7,
   "id": "f4d471cd",
   "metadata": {},
   "outputs": [],
   "source": [
    "#Conditional Distribution"
   ]
  },
  {
   "cell_type": "code",
   "execution_count": 8,
   "id": "b97d6f0b",
   "metadata": {},
   "outputs": [],
   "source": [
    "from nltk.probability import ConditionalFreqDist"
   ]
  },
  {
   "cell_type": "code",
   "execution_count": 9,
   "id": "5404fc80",
   "metadata": {},
   "outputs": [
    {
     "data": {
      "text/plain": [
       "FreqDist({'work': 1, '1841': 1})"
      ]
     },
     "execution_count": 9,
     "metadata": {},
     "output_type": "execute_result"
    }
   ],
   "source": [
    "cfd=ConditionalFreqDist((len(word),word) for word in text1.split())\n",
    "cfd[4]"
   ]
  },
  {
   "cell_type": "code",
   "execution_count": 10,
   "id": "7a617075",
   "metadata": {},
   "outputs": [],
   "source": [
    "#Install jieba"
   ]
  },
  {
   "cell_type": "code",
   "execution_count": 14,
   "id": "5300e3a9",
   "metadata": {},
   "outputs": [],
   "source": [
    "import jieba"
   ]
  },
  {
   "cell_type": "code",
   "execution_count": 20,
   "id": "b74a0831",
   "metadata": {},
   "outputs": [],
   "source": [
    "seg=jieba.cut(\"哈希尼\",cut_all=True)"
   ]
  },
  {
   "cell_type": "code",
   "execution_count": 21,
   "id": "1cec0b01",
   "metadata": {},
   "outputs": [
    {
     "name": "stdout",
     "output_type": "stream",
     "text": [
      "哈希尼\n"
     ]
    }
   ],
   "source": [
    "print(\"\".join(seg))"
   ]
  },
  {
   "cell_type": "code",
   "execution_count": 22,
   "id": "5c878c24",
   "metadata": {},
   "outputs": [],
   "source": [
    "#Basic Text Processing Pipeline"
   ]
  },
  {
   "cell_type": "code",
   "execution_count": 23,
   "id": "f2b53b1e",
   "metadata": {},
   "outputs": [
    {
     "name": "stdout",
     "output_type": "stream",
     "text": [
      "['Become', 'an', 'expert', 'in', 'NLP']\n"
     ]
    }
   ],
   "source": [
    "import nltk\n",
    "sent=\"Become an expert in NLP\"\n",
    "words=nltk.word_tokenize(sent)\n",
    "print(words)"
   ]
  },
  {
   "cell_type": "code",
   "execution_count": 24,
   "id": "bc642f52",
   "metadata": {},
   "outputs": [],
   "source": [
    "texts=[\"\"\"Natural language processing (NLP) refers to the branch of computer science—and more specifically, the branch of artificial intelligence or AI—concerned with giving computers the ability to understand text and spoken words in much the same way human beings can.\"\"\"]"
   ]
  },
  {
   "cell_type": "code",
   "execution_count": 25,
   "id": "98a657c2",
   "metadata": {},
   "outputs": [],
   "source": [
    "for text in texts:\n",
    "    sentences=nltk.sent_tokenize(text)\n",
    "    for sentence in sentences:\n",
    "        words==nltk.word_tokenize(sentence)\n",
    "       "
   ]
  },
  {
   "cell_type": "code",
   "execution_count": 26,
   "id": "1df4d484",
   "metadata": {},
   "outputs": [
    {
     "name": "stdout",
     "output_type": "stream",
     "text": [
      "['Become', 'an', 'expert', 'in', 'NLP']\n"
     ]
    }
   ],
   "source": [
    "print(words)"
   ]
  },
  {
   "cell_type": "code",
   "execution_count": 27,
   "id": "e6a15edd",
   "metadata": {},
   "outputs": [],
   "source": [
    "tagged=nltk.pos_tag(words)"
   ]
  },
  {
   "cell_type": "code",
   "execution_count": 28,
   "id": "b5d589c9",
   "metadata": {},
   "outputs": [
    {
     "name": "stdout",
     "output_type": "stream",
     "text": [
      "[('Become', 'NNP'), ('an', 'DT'), ('expert', 'NN'), ('in', 'IN'), ('NLP', 'NNP')]\n"
     ]
    }
   ],
   "source": [
    "print(tagged)\n"
   ]
  },
  {
   "cell_type": "code",
   "execution_count": 29,
   "id": "e787f34f",
   "metadata": {},
   "outputs": [
    {
     "name": "stdout",
     "output_type": "stream",
     "text": [
      "[('Natural', 'JJ'), ('language', 'NN'), ('processing', 'NN'), ('(', '('), ('NLP', 'NNP'), (')', ')'), ('refers', 'NNS'), ('to', 'TO'), ('the', 'DT'), ('branch', 'NN'), ('of', 'IN'), ('computer', 'NN'), ('science—and', 'NN'), ('more', 'RBR'), ('specifically', 'RB'), (',', ','), ('the', 'DT'), ('branch', 'NN'), ('of', 'IN'), ('artificial', 'JJ'), ('intelligence', 'NN'), ('or', 'CC'), ('AI—concerned', 'VBN'), ('with', 'IN'), ('giving', 'VBG'), ('computers', 'NNS'), ('the', 'DT'), ('ability', 'NN'), ('to', 'TO'), ('understand', 'VB'), ('text', 'NN'), ('and', 'CC'), ('spoken', 'JJ'), ('words', 'NNS'), ('in', 'IN'), ('much', 'JJ'), ('the', 'DT'), ('same', 'JJ'), ('way', 'NN'), ('human', 'JJ'), ('beings', 'NNS'), ('can', 'MD'), ('.', '.')]\n"
     ]
    }
   ],
   "source": [
    "import nltk\n",
    "sent_text = nltk.sent_tokenize(text) \n",
    "for sentence in sent_text:\n",
    "    tokenized_text = nltk.word_tokenize(sentence)\n",
    "    tagged = nltk.pos_tag(tokenized_text)\n",
    "    print(tagged)"
   ]
  },
  {
   "cell_type": "code",
   "execution_count": null,
   "id": "cec9f400",
   "metadata": {},
   "outputs": [],
   "source": []
  }
 ],
 "metadata": {
  "kernelspec": {
   "display_name": "Python 3 (ipykernel)",
   "language": "python",
   "name": "python3"
  },
  "language_info": {
   "codemirror_mode": {
    "name": "ipython",
    "version": 3
   },
   "file_extension": ".py",
   "mimetype": "text/x-python",
   "name": "python",
   "nbconvert_exporter": "python",
   "pygments_lexer": "ipython3",
   "version": "3.9.13"
  }
 },
 "nbformat": 4,
 "nbformat_minor": 5
}
