{
 "cells": [
  {
   "cell_type": "code",
   "execution_count": 3,
   "id": "c98d43bd",
   "metadata": {},
   "outputs": [
    {
     "name": "stdout",
     "output_type": "stream",
     "text": [
      "Defaulting to user installation because normal site-packages is not writeable\n",
      "Requirement already satisfied: spacy in c:\\users\\harsh\\appdata\\roaming\\python\\python310\\site-packages (3.5.2)\n",
      "Requirement already satisfied: thinc<8.2.0,>=8.1.8 in c:\\users\\harsh\\appdata\\roaming\\python\\python310\\site-packages (from spacy) (8.1.9)\n",
      "Requirement already satisfied: requests<3.0.0,>=2.13.0 in c:\\programdata\\anaconda3\\lib\\site-packages (from spacy) (2.28.1)\n",
      "Requirement already satisfied: spacy-loggers<2.0.0,>=1.0.0 in c:\\users\\harsh\\appdata\\roaming\\python\\python310\\site-packages (from spacy) (1.0.4)\n",
      "Requirement already satisfied: pydantic!=1.8,!=1.8.1,<1.11.0,>=1.7.4 in c:\\users\\harsh\\appdata\\roaming\\python\\python310\\site-packages (from spacy) (1.10.7)\n",
      "Requirement already satisfied: packaging>=20.0 in c:\\programdata\\anaconda3\\lib\\site-packages (from spacy) (22.0)\n",
      "Requirement already satisfied: numpy>=1.15.0 in c:\\programdata\\anaconda3\\lib\\site-packages (from spacy) (1.23.5)\n",
      "Requirement already satisfied: preshed<3.1.0,>=3.0.2 in c:\\users\\harsh\\appdata\\roaming\\python\\python310\\site-packages (from spacy) (3.0.8)\n",
      "Requirement already satisfied: tqdm<5.0.0,>=4.38.0 in c:\\programdata\\anaconda3\\lib\\site-packages (from spacy) (4.64.1)\n",
      "Requirement already satisfied: cymem<2.1.0,>=2.0.2 in c:\\users\\harsh\\appdata\\roaming\\python\\python310\\site-packages (from spacy) (2.0.7)\n",
      "Requirement already satisfied: catalogue<2.1.0,>=2.0.6 in c:\\users\\harsh\\appdata\\roaming\\python\\python310\\site-packages (from spacy) (2.0.8)\n",
      "Requirement already satisfied: langcodes<4.0.0,>=3.2.0 in c:\\users\\harsh\\appdata\\roaming\\python\\python310\\site-packages (from spacy) (3.3.0)\n",
      "Requirement already satisfied: smart-open<7.0.0,>=5.2.1 in c:\\programdata\\anaconda3\\lib\\site-packages (from spacy) (5.2.1)\n",
      "Requirement already satisfied: spacy-legacy<3.1.0,>=3.0.11 in c:\\users\\harsh\\appdata\\roaming\\python\\python310\\site-packages (from spacy) (3.0.12)\n",
      "Requirement already satisfied: pathy>=0.10.0 in c:\\users\\harsh\\appdata\\roaming\\python\\python310\\site-packages (from spacy) (0.10.1)\n",
      "Requirement already satisfied: wasabi<1.2.0,>=0.9.1 in c:\\users\\harsh\\appdata\\roaming\\python\\python310\\site-packages (from spacy) (1.1.1)\n",
      "Requirement already satisfied: srsly<3.0.0,>=2.4.3 in c:\\users\\harsh\\appdata\\roaming\\python\\python310\\site-packages (from spacy) (2.4.6)\n",
      "Requirement already satisfied: murmurhash<1.1.0,>=0.28.0 in c:\\users\\harsh\\appdata\\roaming\\python\\python310\\site-packages (from spacy) (1.0.9)\n",
      "Requirement already satisfied: typer<0.8.0,>=0.3.0 in c:\\users\\harsh\\appdata\\roaming\\python\\python310\\site-packages (from spacy) (0.7.0)\n",
      "Requirement already satisfied: setuptools in c:\\programdata\\anaconda3\\lib\\site-packages (from spacy) (65.6.3)\n",
      "Requirement already satisfied: jinja2 in c:\\programdata\\anaconda3\\lib\\site-packages (from spacy) (3.1.2)\n",
      "Requirement already satisfied: typing-extensions>=4.2.0 in c:\\programdata\\anaconda3\\lib\\site-packages (from pydantic!=1.8,!=1.8.1,<1.11.0,>=1.7.4->spacy) (4.4.0)\n",
      "Requirement already satisfied: certifi>=2017.4.17 in c:\\programdata\\anaconda3\\lib\\site-packages (from requests<3.0.0,>=2.13.0->spacy) (2022.12.7)\n",
      "Requirement already satisfied: urllib3<1.27,>=1.21.1 in c:\\programdata\\anaconda3\\lib\\site-packages (from requests<3.0.0,>=2.13.0->spacy) (1.26.14)\n",
      "Requirement already satisfied: idna<4,>=2.5 in c:\\programdata\\anaconda3\\lib\\site-packages (from requests<3.0.0,>=2.13.0->spacy) (3.4)\n",
      "Requirement already satisfied: charset-normalizer<3,>=2 in c:\\programdata\\anaconda3\\lib\\site-packages (from requests<3.0.0,>=2.13.0->spacy) (2.0.4)\n",
      "Requirement already satisfied: blis<0.8.0,>=0.7.8 in c:\\users\\harsh\\appdata\\roaming\\python\\python310\\site-packages (from thinc<8.2.0,>=8.1.8->spacy) (0.7.9)\n",
      "Requirement already satisfied: confection<1.0.0,>=0.0.1 in c:\\users\\harsh\\appdata\\roaming\\python\\python310\\site-packages (from thinc<8.2.0,>=8.1.8->spacy) (0.0.4)\n",
      "Requirement already satisfied: colorama in c:\\programdata\\anaconda3\\lib\\site-packages (from tqdm<5.0.0,>=4.38.0->spacy) (0.4.6)\n",
      "Requirement already satisfied: click<9.0.0,>=7.1.1 in c:\\programdata\\anaconda3\\lib\\site-packages (from typer<0.8.0,>=0.3.0->spacy) (8.0.4)\n",
      "Requirement already satisfied: MarkupSafe>=2.0 in c:\\programdata\\anaconda3\\lib\\site-packages (from jinja2->spacy) (2.1.1)\n"
     ]
    }
   ],
   "source": [
    "!pip install spacy"
   ]
  },
  {
   "cell_type": "code",
   "execution_count": 5,
   "id": "40018c90",
   "metadata": {},
   "outputs": [
    {
     "name": "stdout",
     "output_type": "stream",
     "text": [
      "Defaulting to user installation because normal site-packages is not writeable\n",
      "Requirement already satisfied: spacy in c:\\users\\harsh\\appdata\\roaming\\python\\python310\\site-packages (3.5.2)\n",
      "Requirement already satisfied: tqdm<5.0.0,>=4.38.0 in c:\\programdata\\anaconda3\\lib\\site-packages (from spacy) (4.64.1)\n",
      "Requirement already satisfied: jinja2 in c:\\programdata\\anaconda3\\lib\\site-packages (from spacy) (3.1.2)\n",
      "Requirement already satisfied: smart-open<7.0.0,>=5.2.1 in c:\\programdata\\anaconda3\\lib\\site-packages (from spacy) (5.2.1)\n",
      "Requirement already satisfied: packaging>=20.0 in c:\\programdata\\anaconda3\\lib\\site-packages (from spacy) (22.0)\n",
      "Requirement already satisfied: langcodes<4.0.0,>=3.2.0 in c:\\users\\harsh\\appdata\\roaming\\python\\python310\\site-packages (from spacy) (3.3.0)\n",
      "Requirement already satisfied: setuptools in c:\\programdata\\anaconda3\\lib\\site-packages (from spacy) (65.6.3)\n",
      "Requirement already satisfied: requests<3.0.0,>=2.13.0 in c:\\programdata\\anaconda3\\lib\\site-packages (from spacy) (2.28.1)\n",
      "Requirement already satisfied: catalogue<2.1.0,>=2.0.6 in c:\\users\\harsh\\appdata\\roaming\\python\\python310\\site-packages (from spacy) (2.0.8)\n",
      "Requirement already satisfied: spacy-loggers<2.0.0,>=1.0.0 in c:\\users\\harsh\\appdata\\roaming\\python\\python310\\site-packages (from spacy) (1.0.4)\n",
      "Requirement already satisfied: typer<0.8.0,>=0.3.0 in c:\\users\\harsh\\appdata\\roaming\\python\\python310\\site-packages (from spacy) (0.7.0)\n",
      "Requirement already satisfied: pydantic!=1.8,!=1.8.1,<1.11.0,>=1.7.4 in c:\\users\\harsh\\appdata\\roaming\\python\\python310\\site-packages (from spacy) (1.10.7)\n",
      "Requirement already satisfied: cymem<2.1.0,>=2.0.2 in c:\\users\\harsh\\appdata\\roaming\\python\\python310\\site-packages (from spacy) (2.0.7)\n",
      "Requirement already satisfied: preshed<3.1.0,>=3.0.2 in c:\\users\\harsh\\appdata\\roaming\\python\\python310\\site-packages (from spacy) (3.0.8)\n",
      "Requirement already satisfied: srsly<3.0.0,>=2.4.3 in c:\\users\\harsh\\appdata\\roaming\\python\\python310\\site-packages (from spacy) (2.4.6)\n",
      "Requirement already satisfied: numpy>=1.15.0 in c:\\programdata\\anaconda3\\lib\\site-packages (from spacy) (1.23.5)\n",
      "Requirement already satisfied: murmurhash<1.1.0,>=0.28.0 in c:\\users\\harsh\\appdata\\roaming\\python\\python310\\site-packages (from spacy) (1.0.9)\n",
      "Requirement already satisfied: spacy-legacy<3.1.0,>=3.0.11 in c:\\users\\harsh\\appdata\\roaming\\python\\python310\\site-packages (from spacy) (3.0.12)\n",
      "Requirement already satisfied: pathy>=0.10.0 in c:\\users\\harsh\\appdata\\roaming\\python\\python310\\site-packages (from spacy) (0.10.1)\n",
      "Requirement already satisfied: wasabi<1.2.0,>=0.9.1 in c:\\users\\harsh\\appdata\\roaming\\python\\python310\\site-packages (from spacy) (1.1.1)\n",
      "Requirement already satisfied: thinc<8.2.0,>=8.1.8 in c:\\users\\harsh\\appdata\\roaming\\python\\python310\\site-packages (from spacy) (8.1.9)\n",
      "Requirement already satisfied: typing-extensions>=4.2.0 in c:\\programdata\\anaconda3\\lib\\site-packages (from pydantic!=1.8,!=1.8.1,<1.11.0,>=1.7.4->spacy) (4.4.0)\n",
      "Requirement already satisfied: certifi>=2017.4.17 in c:\\programdata\\anaconda3\\lib\\site-packages (from requests<3.0.0,>=2.13.0->spacy) (2022.12.7)\n",
      "Requirement already satisfied: idna<4,>=2.5 in c:\\programdata\\anaconda3\\lib\\site-packages (from requests<3.0.0,>=2.13.0->spacy) (3.4)\n",
      "Requirement already satisfied: charset-normalizer<3,>=2 in c:\\programdata\\anaconda3\\lib\\site-packages (from requests<3.0.0,>=2.13.0->spacy) (2.0.4)\n",
      "Requirement already satisfied: urllib3<1.27,>=1.21.1 in c:\\programdata\\anaconda3\\lib\\site-packages (from requests<3.0.0,>=2.13.0->spacy) (1.26.14)\n",
      "Requirement already satisfied: blis<0.8.0,>=0.7.8 in c:\\users\\harsh\\appdata\\roaming\\python\\python310\\site-packages (from thinc<8.2.0,>=8.1.8->spacy) (0.7.9)\n",
      "Requirement already satisfied: confection<1.0.0,>=0.0.1 in c:\\users\\harsh\\appdata\\roaming\\python\\python310\\site-packages (from thinc<8.2.0,>=8.1.8->spacy) (0.0.4)\n",
      "Requirement already satisfied: colorama in c:\\programdata\\anaconda3\\lib\\site-packages (from tqdm<5.0.0,>=4.38.0->spacy) (0.4.6)\n",
      "Requirement already satisfied: click<9.0.0,>=7.1.1 in c:\\programdata\\anaconda3\\lib\\site-packages (from typer<0.8.0,>=0.3.0->spacy) (8.0.4)\n",
      "Requirement already satisfied: MarkupSafe>=2.0 in c:\\programdata\\anaconda3\\lib\\site-packages (from jinja2->spacy) (2.1.1)\n",
      "Defaulting to user installation because normal site-packages is not writeable\n",
      "Collecting en-core-web-sm==3.5.0\n",
      "  Downloading https://github.com/explosion/spacy-models/releases/download/en_core_web_sm-3.5.0/en_core_web_sm-3.5.0-py3-none-any.whl (12.8 MB)\n",
      "     -------------------------------------- 12.8/12.8 MB 749.4 kB/s eta 0:00:00\n",
      "Requirement already satisfied: spacy<3.6.0,>=3.5.0 in c:\\users\\harsh\\appdata\\roaming\\python\\python310\\site-packages (from en-core-web-sm==3.5.0) (3.5.2)\n",
      "Requirement already satisfied: packaging>=20.0 in c:\\programdata\\anaconda3\\lib\\site-packages (from spacy<3.6.0,>=3.5.0->en-core-web-sm==3.5.0) (22.0)\n",
      "Requirement already satisfied: spacy-loggers<2.0.0,>=1.0.0 in c:\\users\\harsh\\appdata\\roaming\\python\\python310\\site-packages (from spacy<3.6.0,>=3.5.0->en-core-web-sm==3.5.0) (1.0.4)\n",
      "Requirement already satisfied: typer<0.8.0,>=0.3.0 in c:\\users\\harsh\\appdata\\roaming\\python\\python310\\site-packages (from spacy<3.6.0,>=3.5.0->en-core-web-sm==3.5.0) (0.7.0)\n",
      "Requirement already satisfied: pydantic!=1.8,!=1.8.1,<1.11.0,>=1.7.4 in c:\\users\\harsh\\appdata\\roaming\\python\\python310\\site-packages (from spacy<3.6.0,>=3.5.0->en-core-web-sm==3.5.0) (1.10.7)\n",
      "Requirement already satisfied: murmurhash<1.1.0,>=0.28.0 in c:\\users\\harsh\\appdata\\roaming\\python\\python310\\site-packages (from spacy<3.6.0,>=3.5.0->en-core-web-sm==3.5.0) (1.0.9)\n",
      "Requirement already satisfied: preshed<3.1.0,>=3.0.2 in c:\\users\\harsh\\appdata\\roaming\\python\\python310\\site-packages (from spacy<3.6.0,>=3.5.0->en-core-web-sm==3.5.0) (3.0.8)\n",
      "Requirement already satisfied: catalogue<2.1.0,>=2.0.6 in c:\\users\\harsh\\appdata\\roaming\\python\\python310\\site-packages (from spacy<3.6.0,>=3.5.0->en-core-web-sm==3.5.0) (2.0.8)\n",
      "Requirement already satisfied: srsly<3.0.0,>=2.4.3 in c:\\users\\harsh\\appdata\\roaming\\python\\python310\\site-packages (from spacy<3.6.0,>=3.5.0->en-core-web-sm==3.5.0) (2.4.6)\n",
      "Requirement already satisfied: numpy>=1.15.0 in c:\\programdata\\anaconda3\\lib\\site-packages (from spacy<3.6.0,>=3.5.0->en-core-web-sm==3.5.0) (1.23.5)\n",
      "Requirement already satisfied: setuptools in c:\\programdata\\anaconda3\\lib\\site-packages (from spacy<3.6.0,>=3.5.0->en-core-web-sm==3.5.0) (65.6.3)\n",
      "Requirement already satisfied: requests<3.0.0,>=2.13.0 in c:\\programdata\\anaconda3\\lib\\site-packages (from spacy<3.6.0,>=3.5.0->en-core-web-sm==3.5.0) (2.28.1)\n",
      "Requirement already satisfied: spacy-legacy<3.1.0,>=3.0.11 in c:\\users\\harsh\\appdata\\roaming\\python\\python310\\site-packages (from spacy<3.6.0,>=3.5.0->en-core-web-sm==3.5.0) (3.0.12)\n",
      "Requirement already satisfied: jinja2 in c:\\programdata\\anaconda3\\lib\\site-packages (from spacy<3.6.0,>=3.5.0->en-core-web-sm==3.5.0) (3.1.2)\n",
      "Requirement already satisfied: wasabi<1.2.0,>=0.9.1 in c:\\users\\harsh\\appdata\\roaming\\python\\python310\\site-packages (from spacy<3.6.0,>=3.5.0->en-core-web-sm==3.5.0) (1.1.1)\n",
      "Requirement already satisfied: smart-open<7.0.0,>=5.2.1 in c:\\programdata\\anaconda3\\lib\\site-packages (from spacy<3.6.0,>=3.5.0->en-core-web-sm==3.5.0) (5.2.1)\n",
      "Requirement already satisfied: tqdm<5.0.0,>=4.38.0 in c:\\programdata\\anaconda3\\lib\\site-packages (from spacy<3.6.0,>=3.5.0->en-core-web-sm==3.5.0) (4.64.1)\n",
      "Requirement already satisfied: pathy>=0.10.0 in c:\\users\\harsh\\appdata\\roaming\\python\\python310\\site-packages (from spacy<3.6.0,>=3.5.0->en-core-web-sm==3.5.0) (0.10.1)\n",
      "Requirement already satisfied: thinc<8.2.0,>=8.1.8 in c:\\users\\harsh\\appdata\\roaming\\python\\python310\\site-packages (from spacy<3.6.0,>=3.5.0->en-core-web-sm==3.5.0) (8.1.9)\n",
      "Requirement already satisfied: langcodes<4.0.0,>=3.2.0 in c:\\users\\harsh\\appdata\\roaming\\python\\python310\\site-packages (from spacy<3.6.0,>=3.5.0->en-core-web-sm==3.5.0) (3.3.0)\n",
      "Requirement already satisfied: cymem<2.1.0,>=2.0.2 in c:\\users\\harsh\\appdata\\roaming\\python\\python310\\site-packages (from spacy<3.6.0,>=3.5.0->en-core-web-sm==3.5.0) (2.0.7)\n",
      "Requirement already satisfied: typing-extensions>=4.2.0 in c:\\programdata\\anaconda3\\lib\\site-packages (from pydantic!=1.8,!=1.8.1,<1.11.0,>=1.7.4->spacy<3.6.0,>=3.5.0->en-core-web-sm==3.5.0) (4.4.0)\n",
      "Requirement already satisfied: certifi>=2017.4.17 in c:\\programdata\\anaconda3\\lib\\site-packages (from requests<3.0.0,>=2.13.0->spacy<3.6.0,>=3.5.0->en-core-web-sm==3.5.0) (2022.12.7)\n",
      "Requirement already satisfied: urllib3<1.27,>=1.21.1 in c:\\programdata\\anaconda3\\lib\\site-packages (from requests<3.0.0,>=2.13.0->spacy<3.6.0,>=3.5.0->en-core-web-sm==3.5.0) (1.26.14)\n",
      "Requirement already satisfied: idna<4,>=2.5 in c:\\programdata\\anaconda3\\lib\\site-packages (from requests<3.0.0,>=2.13.0->spacy<3.6.0,>=3.5.0->en-core-web-sm==3.5.0) (3.4)\n",
      "Requirement already satisfied: charset-normalizer<3,>=2 in c:\\programdata\\anaconda3\\lib\\site-packages (from requests<3.0.0,>=2.13.0->spacy<3.6.0,>=3.5.0->en-core-web-sm==3.5.0) (2.0.4)\n",
      "Requirement already satisfied: blis<0.8.0,>=0.7.8 in c:\\users\\harsh\\appdata\\roaming\\python\\python310\\site-packages (from thinc<8.2.0,>=8.1.8->spacy<3.6.0,>=3.5.0->en-core-web-sm==3.5.0) (0.7.9)\n",
      "Requirement already satisfied: confection<1.0.0,>=0.0.1 in c:\\users\\harsh\\appdata\\roaming\\python\\python310\\site-packages (from thinc<8.2.0,>=8.1.8->spacy<3.6.0,>=3.5.0->en-core-web-sm==3.5.0) (0.0.4)\n",
      "Requirement already satisfied: colorama in c:\\programdata\\anaconda3\\lib\\site-packages (from tqdm<5.0.0,>=4.38.0->spacy<3.6.0,>=3.5.0->en-core-web-sm==3.5.0) (0.4.6)\n",
      "Requirement already satisfied: click<9.0.0,>=7.1.1 in c:\\programdata\\anaconda3\\lib\\site-packages (from typer<0.8.0,>=0.3.0->spacy<3.6.0,>=3.5.0->en-core-web-sm==3.5.0) (8.0.4)\n",
      "Requirement already satisfied: MarkupSafe>=2.0 in c:\\programdata\\anaconda3\\lib\\site-packages (from jinja2->spacy<3.6.0,>=3.5.0->en-core-web-sm==3.5.0) (2.1.1)\n",
      "\u001b[38;5;2m[+] Download and installation successful\u001b[0m\n",
      "You can now load the package via spacy.load('en_core_web_sm')\n"
     ]
    }
   ],
   "source": [
    "import spacy\n",
    "!pip install -U spacy\n",
    "!python -m spacy download en_core_web_sm\n",
    "m=spacy.load('en_core_web_sm')\n",
    "doc = m(\"This is a sentence.\")"
   ]
  },
  {
   "cell_type": "code",
   "execution_count": 6,
   "id": "4d2ab62b",
   "metadata": {},
   "outputs": [
    {
     "data": {
      "text/plain": [
       "['tok2vec', 'tagger', 'parser', 'attribute_ruler', 'lemmatizer', 'ner']"
      ]
     },
     "execution_count": 6,
     "metadata": {},
     "output_type": "execute_result"
    }
   ],
   "source": [
    "m.pipe_names"
   ]
  },
  {
   "cell_type": "code",
   "execution_count": 7,
   "id": "64517aa2",
   "metadata": {},
   "outputs": [
    {
     "data": {
      "text/plain": [
       "['tagger', 'parser']"
      ]
     },
     "execution_count": 7,
     "metadata": {},
     "output_type": "execute_result"
    }
   ],
   "source": [
    "m.disable_pipes('tagger', 'parser')"
   ]
  },
  {
   "cell_type": "code",
   "execution_count": 8,
   "id": "e41efd57",
   "metadata": {},
   "outputs": [
    {
     "name": "stdout",
     "output_type": "stream",
     "text": [
      "He - PRON\n",
      "went - VERB\n",
      "to - PART\n",
      "play - VERB\n",
      "basketball - NOUN\n"
     ]
    }
   ],
   "source": [
    "import spacy \n",
    "nlp = spacy.load('en_core_web_sm')\n",
    "doc = nlp(\"He went to play basketball\")\n",
    "for token in doc:\n",
    "    print(token.text, \"-\", token.pos_)"
   ]
  },
  {
   "cell_type": "code",
   "execution_count": 9,
   "id": "bfe4561a",
   "metadata": {},
   "outputs": [
    {
     "name": "stdout",
     "output_type": "stream",
     "text": [
      "He - nsubj\n",
      "went - ROOT\n",
      "to - aux\n",
      "play - advcl\n",
      "basketball - dobj\n"
     ]
    }
   ],
   "source": [
    "for token in doc:\n",
    "    print(token.text, \"-\", token.dep_)"
   ]
  },
  {
   "cell_type": "code",
   "execution_count": 17,
   "id": "ace37240",
   "metadata": {},
   "outputs": [
    {
     "name": "stdout",
     "output_type": "stream",
     "text": [
      "NLP Course ORG\n"
     ]
    },
    {
     "name": "stderr",
     "output_type": "stream",
     "text": [
      "C:\\Users\\harsh\\AppData\\Roaming\\Python\\Python310\\site-packages\\spacy\\pipeline\\lemmatizer.py:211: UserWarning: [W108] The rule-based lemmatizer did not find POS annotation for one or more tokens. Check that your pipeline includes components that assign token.pos, typically 'tagger'+'attribute_ruler' or 'morphologizer'.\n",
      "  warnings.warn(Warnings.W108)\n"
     ]
    }
   ],
   "source": [
    "doc = m(\"This is the part of tasks in NLP Course. Named Entity Recognition using spaCy\")\n",
    "for ent in doc.ents:\n",
    "    print(ent.text, ent.label_)"
   ]
  },
  {
   "cell_type": "code",
   "execution_count": 16,
   "id": "4835a401",
   "metadata": {},
   "outputs": [
    {
     "name": "stdout",
     "output_type": "stream",
     "text": [
      "showing info https://raw.githubusercontent.com/nltk/nltk_data/gh-pages/index.xml\n"
     ]
    },
    {
     "data": {
      "text/plain": [
       "True"
      ]
     },
     "execution_count": 16,
     "metadata": {},
     "output_type": "execute_result"
    }
   ],
   "source": [
    "import nltk\n",
    "nltk.download()"
   ]
  },
  {
   "cell_type": "code",
   "execution_count": 21,
   "id": "f61c12aa",
   "metadata": {
    "scrolled": true
   },
   "outputs": [],
   "source": [
    "sentence = [(\"the\",\"DT\"),(\"little\",\"JJ\"),(\"Yellow\",\"JJ\"),(\"Dog\",\"NN\")]"
   ]
  },
  {
   "cell_type": "code",
   "execution_count": 22,
   "id": "b609cf37",
   "metadata": {},
   "outputs": [],
   "source": [
    "grammar = \"Np:{<DT>?<JJ>*<NN>}\"\n",
    "#production from CFG for NP and VP"
   ]
  },
  {
   "cell_type": "code",
   "execution_count": 23,
   "id": "4eb232f2",
   "metadata": {},
   "outputs": [],
   "source": [
    "cp=nltk.RegexpParser(grammar)"
   ]
  },
  {
   "cell_type": "code",
   "execution_count": 24,
   "id": "fe2e8c1f",
   "metadata": {},
   "outputs": [],
   "source": [
    "result=cp.parse(sentence)"
   ]
  },
  {
   "cell_type": "code",
   "execution_count": 25,
   "id": "ee74be58",
   "metadata": {},
   "outputs": [
    {
     "name": "stdout",
     "output_type": "stream",
     "text": [
      "(S (Np the/DT little/JJ Yellow/JJ Dog/NN))\n"
     ]
    }
   ],
   "source": [
    "print(result)"
   ]
  },
  {
   "cell_type": "code",
   "execution_count": 26,
   "id": "58fb154f",
   "metadata": {},
   "outputs": [],
   "source": [
    "result.draw()"
   ]
  },
  {
   "cell_type": "code",
   "execution_count": 29,
   "id": "0aa9e9ba",
   "metadata": {},
   "outputs": [],
   "source": [
    "chunked_sentence = '(S (NP this tree) (VP (V is) (AdjP pretty)))'"
   ]
  },
  {
   "cell_type": "code",
   "execution_count": 30,
   "id": "894fdf5a",
   "metadata": {},
   "outputs": [],
   "source": [
    "from nltk.tree import Tree\n",
    "from IPython.display import display\n",
    "tree = Tree.fromstring(str(chunked_sentence))"
   ]
  },
  {
   "cell_type": "code",
   "execution_count": 31,
   "id": "ff6d7bfa",
   "metadata": {},
   "outputs": [
    {
     "name": "stdout",
     "output_type": "stream",
     "text": [
      "Defaulting to user installation because normal site-packages is not writeable\n",
      "Collecting svgling\n",
      "  Downloading svgling-0.3.1-py3-none-any.whl (21 kB)\n",
      "Collecting svgwrite\n",
      "  Downloading svgwrite-1.4.3-py3-none-any.whl (67 kB)\n",
      "     -------------------------------------- 67.1/67.1 kB 202.4 kB/s eta 0:00:00\n",
      "Installing collected packages: svgwrite, svgling\n",
      "Successfully installed svgling-0.3.1 svgwrite-1.4.3\n"
     ]
    },
    {
     "data": {
      "image/svg+xml": [
       "<svg baseProfile=\"full\" height=\"216px\" preserveAspectRatio=\"xMidYMid meet\" style=\"font-family: times, serif; font-weight:normal; font-style: normal; font-size: 16px;\" version=\"1.1\" viewBox=\"0,0,296.0,216.0\" width=\"296px\" xmlns=\"http://www.w3.org/2000/svg\" xmlns:ev=\"http://www.w3.org/2001/xml-events\" xmlns:xlink=\"http://www.w3.org/1999/xlink\"><defs /><svg width=\"100%\" x=\"0\" y=\"0em\"><defs /><text text-anchor=\"middle\" x=\"50%\" y=\"1em\">S</text></svg><svg width=\"40.5405%\" x=\"0%\" y=\"3em\"><defs /><svg width=\"100%\" x=\"0\" y=\"0em\"><defs /><text text-anchor=\"middle\" x=\"50%\" y=\"1em\">NP</text></svg><svg width=\"33.3333%\" x=\"0%\" y=\"3em\"><defs /><svg width=\"100%\" x=\"0\" y=\"0em\"><defs /><text text-anchor=\"middle\" x=\"50%\" y=\"1em\">D</text></svg><svg width=\"100%\" x=\"0%\" y=\"3em\"><defs /><svg width=\"100%\" x=\"0\" y=\"0em\"><defs /><text text-anchor=\"middle\" x=\"50%\" y=\"1em\">the</text></svg></svg><line stroke=\"black\" x1=\"50%\" x2=\"50%\" y1=\"1.2em\" y2=\"3em\" /></svg><line stroke=\"black\" x1=\"50%\" x2=\"16.6667%\" y1=\"1.2em\" y2=\"3em\" /><svg width=\"66.6667%\" x=\"33.3333%\" y=\"3em\"><defs /><svg width=\"100%\" x=\"0\" y=\"0em\"><defs /><text text-anchor=\"middle\" x=\"50%\" y=\"1em\">N</text></svg><svg width=\"100%\" x=\"0%\" y=\"3em\"><defs /><svg width=\"100%\" x=\"0\" y=\"0em\"><defs /><text text-anchor=\"middle\" x=\"50%\" y=\"1em\">elephant</text></svg></svg><line stroke=\"black\" x1=\"50%\" x2=\"50%\" y1=\"1.2em\" y2=\"3em\" /></svg><line stroke=\"black\" x1=\"50%\" x2=\"66.6667%\" y1=\"1.2em\" y2=\"3em\" /></svg><line stroke=\"black\" x1=\"50%\" x2=\"20.2703%\" y1=\"1.2em\" y2=\"3em\" /><svg width=\"59.4595%\" x=\"40.5405%\" y=\"3em\"><defs /><svg width=\"100%\" x=\"0\" y=\"0em\"><defs /><text text-anchor=\"middle\" x=\"50%\" y=\"1em\">VP</text></svg><svg width=\"22.7273%\" x=\"0%\" y=\"3em\"><defs /><svg width=\"100%\" x=\"0\" y=\"0em\"><defs /><text text-anchor=\"middle\" x=\"50%\" y=\"1em\">V</text></svg><svg width=\"100%\" x=\"0%\" y=\"3em\"><defs /><svg width=\"100%\" x=\"0\" y=\"0em\"><defs /><text text-anchor=\"middle\" x=\"50%\" y=\"1em\">saw</text></svg></svg><line stroke=\"black\" x1=\"50%\" x2=\"50%\" y1=\"1.2em\" y2=\"3em\" /></svg><line stroke=\"black\" x1=\"50%\" x2=\"11.3636%\" y1=\"1.2em\" y2=\"3em\" /><svg width=\"77.2727%\" x=\"22.7273%\" y=\"3em\"><defs /><svg width=\"100%\" x=\"0\" y=\"0em\"><defs /><text text-anchor=\"middle\" x=\"50%\" y=\"1em\">NP</text></svg><svg width=\"29.4118%\" x=\"0%\" y=\"3em\"><defs /><svg width=\"100%\" x=\"0\" y=\"0em\"><defs /><text text-anchor=\"middle\" x=\"50%\" y=\"1em\">D</text></svg><svg width=\"100%\" x=\"0%\" y=\"3em\"><defs /><svg width=\"100%\" x=\"0\" y=\"0em\"><defs /><text text-anchor=\"middle\" x=\"50%\" y=\"1em\">the</text></svg></svg><line stroke=\"black\" x1=\"50%\" x2=\"50%\" y1=\"1.2em\" y2=\"3em\" /></svg><line stroke=\"black\" x1=\"50%\" x2=\"14.7059%\" y1=\"1.2em\" y2=\"3em\" /><svg width=\"70.5882%\" x=\"29.4118%\" y=\"3em\"><defs /><svg width=\"100%\" x=\"0\" y=\"0em\"><defs /><text text-anchor=\"middle\" x=\"50%\" y=\"1em\">N</text></svg><svg width=\"100%\" x=\"0%\" y=\"3em\"><defs /><svg width=\"100%\" x=\"0\" y=\"0em\"><defs /><text text-anchor=\"middle\" x=\"50%\" y=\"1em\">rhinoceros</text></svg></svg><line stroke=\"black\" x1=\"50%\" x2=\"50%\" y1=\"1.2em\" y2=\"3em\" /></svg><line stroke=\"black\" x1=\"50%\" x2=\"64.7059%\" y1=\"1.2em\" y2=\"3em\" /></svg><line stroke=\"black\" x1=\"50%\" x2=\"61.3636%\" y1=\"1.2em\" y2=\"3em\" /></svg><line stroke=\"black\" x1=\"50%\" x2=\"70.2703%\" y1=\"1.2em\" y2=\"3em\" /></svg>"
      ],
      "text/plain": [
       "TreeLayout(('S', ('NP', ('D', 'the'), ('N', 'elephant')), ('VP', ('V', 'saw'), ('NP', ('D', 'the'), ('N', 'rhinoceros')))))"
      ]
     },
     "execution_count": 31,
     "metadata": {},
     "output_type": "execute_result"
    }
   ],
   "source": [
    "!pip install svgling\n",
    "import svgling\n",
    "svgling.draw_tree((\"S\", (\"NP\", (\"D\", \"the\"), (\"N\", \"elephant\")), (\"VP\", (\"V\", \"saw\"), (\"NP\", (\"D\", \"the\"), (\"N\", \"rhinoceros\")))))"
   ]
  },
  {
   "cell_type": "code",
   "execution_count": 32,
   "id": "8b9afd45",
   "metadata": {},
   "outputs": [],
   "source": [
    "#sentiment classifier using tfidf"
   ]
  },
  {
   "cell_type": "code",
   "execution_count": 36,
   "id": "526c6155",
   "metadata": {},
   "outputs": [],
   "source": [
    "#https://ai.stanford.edu/~amaas/data/sentiment/\n"
   ]
  },
  {
   "cell_type": "code",
   "execution_count": 1,
   "id": "45bd1ba8",
   "metadata": {},
   "outputs": [],
   "source": [
    "from bs4 import BeautifulSoup\n",
    "import requests\n",
    "import re\n",
    "import pandas as pd"
   ]
  },
  {
   "cell_type": "code",
   "execution_count": 2,
   "id": "f4a75470",
   "metadata": {},
   "outputs": [],
   "source": [
    "\n",
    " url = 'http://www.imdb.com/chart/top'\n",
    "response = requests.get(url)\n",
    "soup = BeautifulSoup(response.text, \"html.parser\")\n",
    "movies = soup.select('td.titleColumn')\n",
    "crew = [a.attrs.get('title') for a in soup.select('td.titleColumn a')]\n",
    "ratings = [b.attrs.get('data-value')\n",
    "        for b in soup.select('td.posterColumn span[name=ir]')]"
   ]
  },
  {
   "cell_type": "code",
   "execution_count": 3,
   "id": "3abae630",
   "metadata": {},
   "outputs": [],
   "source": [
    "list = []\n",
    "for index in range(0, len(movies)):\n",
    "    movie_string = movies[index].get_text()\n",
    "    movie = (' '.join(movie_string.split()).replace('.', ''))\n",
    "    movie_title = movie[len(str(index))+1:-7]\n",
    "    year = re.search('\\((.*?)\\)', movie_string).group(1)\n",
    "    place = movie[:len(str(index))-(len(movie))]\n",
    "    data = {\"place\": place,\n",
    "            \"movie_title\": movie_title,\n",
    "            \"rating\": ratings[index],\n",
    "            \"year\": year,\n",
    "            \"star_cast\": crew[index],\n",
    "            }\n",
    "    list.append(data)"
   ]
  },
  {
   "cell_type": "code",
   "execution_count": 4,
   "id": "726e0812",
   "metadata": {},
   "outputs": [
    {
     "name": "stdout",
     "output_type": "stream",
     "text": [
      "1 - The Shawshank Redemption (1994) - Starring: Frank Darabont (dir.), Tim Robbins, Morgan Freeman 9.235872675236772\n",
      "2 - The Godfather (1972) - Starring: Francis Ford Coppola (dir.), Marlon Brando, Al Pacino 9.155773420833434\n",
      "3 - The Dark Knight (2008) - Starring: Christopher Nolan (dir.), Christian Bale, Heath Ledger 8.992031585573384\n",
      "4 - The Godfather Part II (1974) - Starring: Francis Ford Coppola (dir.), Al Pacino, Robert De Niro 8.9837887975875\n",
      "5 - 12 Angry Men (1957) - Starring: Sidney Lumet (dir.), Henry Fonda, Lee J. Cobb 8.9535601167433\n",
      "6 - Schindler's List (1993) - Starring: Steven Spielberg (dir.), Liam Neeson, Ralph Fiennes 8.940469294267531\n",
      "7 - The Lord of the Rings: The Return of the King (2003) - Starring: Peter Jackson (dir.), Elijah Wood, Viggo Mortensen 8.933066664124384\n",
      "8 - Pulp Fiction (1994) - Starring: Quentin Tarantino (dir.), John Travolta, Uma Thurman 8.845951520230068\n",
      "9 - The Lord of the Rings: The Fellowship of the Ring (2001) - Starring: Peter Jackson (dir.), Elijah Wood, Ian McKellen 8.811409419327383\n",
      "1 -  Il buono, il brutto, il cattivo (1966) - Starring: Sergio Leone (dir.), Clint Eastwood, Eli Wallach 8.788529748700002\n",
      "11 - Forrest Gump (1994) - Starring: Robert Zemeckis (dir.), Tom Hanks, Robin Wright 8.766459393261053\n",
      "12 - Fight Club (1999) - Starring: David Fincher (dir.), Brad Pitt, Edward Norton 8.747482873991967\n",
      "13 - The Lord of the Rings: The Two Towers (2002) - Starring: Peter Jackson (dir.), Elijah Wood, Ian McKellen 8.737221698415805\n",
      "14 - Inception (2010) - Starring: Christopher Nolan (dir.), Leonardo DiCaprio, Joseph Gordon-Levitt 8.732595900491026\n",
      "15 - The Empire Strikes Back (1980) - Starring: Irvin Kershner (dir.), Mark Hamill, Harrison Ford 8.698195246449663\n",
      "16 - The Matrix (1999) - Starring: Lana Wachowski (dir.), Keanu Reeves, Laurence Fishburne 8.669187662811426\n",
      "17 - GoodFellas (1990) - Starring: Martin Scorsese (dir.), Robert De Niro, Ray Liotta 8.653438690492559\n",
      "18 - One Flew Over the Cuckoo's Nest (1975) - Starring: Milos Forman (dir.), Jack Nicholson, Louise Fletcher 8.637483015351842\n",
      "19 - Se7en (1995) - Starring: David Fincher (dir.), Morgan Freeman, Brad Pitt 8.604606563097741\n",
      "20 - It's a Wonderful Life (1946) - Starring: Frank Capra (dir.), James Stewart, Donna Reed 8.597580866851182\n",
      "21 - Shichinin no samurai (1954) - Starring: Akira Kurosawa (dir.), Toshirô Mifune, Takashi Shimura 8.597522009814616\n",
      "22 - The Silence of the Lambs (1991) - Starring: Jonathan Demme (dir.), Jodie Foster, Anthony Hopkins 8.588354361989689\n",
      "23 - Saving Private Ryan (1998) - Starring: Steven Spielberg (dir.), Tom Hanks, Matt Damon 8.579895241304682\n",
      "24 - Cidade de Deus (2002) - Starring: Fernando Meirelles (dir.), Alexandre Rodrigues, Leandro Firmino 8.579299233399315\n",
      "25 - Interstellar (2014) - Starring: Christopher Nolan (dir.), Matthew McConaughey, Anne Hathaway 8.573442788707673\n",
      "26 - La vita è bella (1997) - Starring: Roberto Benigni (dir.), Roberto Benigni, Nicoletta Braschi 8.56882590104692\n",
      "27 - The Green Mile (1999) - Starring: Frank Darabont (dir.), Tom Hanks, Michael Clarke Duncan 8.563934355324848\n",
      "28 - Star Wars (1977) - Starring: George Lucas (dir.), Mark Hamill, Harrison Ford 8.547395039421518\n",
      "29 - Terminator 2: Judgment Day (1991) - Starring: James Cameron (dir.), Arnold Schwarzenegger, Linda Hamilton 8.538415553354504\n",
      "30 - Back to the Future (1985) - Starring: Robert Zemeckis (dir.), Michael J. Fox, Christopher Lloyd 8.51794342034029\n",
      "31 - Sen to Chihiro no kamikakushi (2001) - Starring: Hayao Miyazaki (dir.), Daveigh Chase, Suzanne Pleshette 8.51597964370542\n",
      "32 - The Pianist (2002) - Starring: Roman Polanski (dir.), Adrien Brody, Thomas Kretschmann 8.508004383850814\n",
      "33 - Psycho (1960) - Starring: Alfred Hitchcock (dir.), Anthony Perkins, Janet Leigh 8.506141566266486\n",
      "34 - Gisaengchung (2019) - Starring: Bong Joon Ho (dir.), Song Kang-ho, Lee Sun-kyun 8.500492572176976\n",
      "35 - Léon (1994) - Starring: Luc Besson (dir.), Jean Reno, Gary Oldman 8.491968302918709\n",
      "36 - The Lion King (1994) - Starring: Roger Allers (dir.), Matthew Broderick, Jeremy Irons 8.487655913072945\n",
      "37 - Gladiator (2000) - Starring: Ridley Scott (dir.), Russell Crowe, Joaquin Phoenix 8.4874204033899\n",
      "38 - American History X (1998) - Starring: Tony Kaye (dir.), Edward Norton, Edward Furlong 8.481076021809933\n",
      "39 - The Departed (2006) - Starring: Martin Scorsese (dir.), Leonardo DiCaprio, Matt Damon 8.476348179663823\n",
      "40 - Whiplash (2014) - Starring: Damien Chazelle (dir.), Miles Teller, J.K. Simmons 8.469603221579243\n",
      "41 - The Prestige (2006) - Starring: Christopher Nolan (dir.), Christian Bale, Hugh Jackman 8.469326577575952\n",
      "42 - The Usual Suspects (1995) - Starring: Bryan Singer (dir.), Kevin Spacey, Gabriel Byrne 8.468418414641668\n",
      "43 - Casablanca (1942) - Starring: Michael Curtiz (dir.), Humphrey Bogart, Ingrid Bergman 8.461014070131426\n",
      "44 - Hotaru no haka (1988) - Starring: Isao Takahata (dir.), Tsutomu Tatsumi, Ayano Shiraishi 8.456839621744088\n",
      "45 - Seppuku (1962) - Starring: Masaki Kobayashi (dir.), Tatsuya Nakadai, Akira Ishihama 8.456399400123143\n",
      "46 - The Intouchables (2011) - Starring: Olivier Nakache (dir.), François Cluzet, Omar Sy 8.453017417956303\n",
      "47 - Modern Times (1936) - Starring: Charles Chaplin (dir.), Charles Chaplin, Paulette Goddard 8.44641541093784\n",
      "48 - Once Upon a Time in the West (1968) - Starring: Sergio Leone (dir.), Henry Fonda, Charles Bronson 8.439720176593099\n",
      "49 - Nuovo Cinema Paradiso (1988) - Starring: Giuseppe Tornatore (dir.), Philippe Noiret, Enzo Cannavale 8.435813650588553\n",
      "50 - Rear Window (1954) - Starring: Alfred Hitchcock (dir.), James Stewart, Grace Kelly 8.435068557126186\n",
      "51 - Alien (1979) - Starring: Ridley Scott (dir.), Sigourney Weaver, Tom Skerritt 8.433145919706899\n",
      "52 - City Lights (1931) - Starring: Charles Chaplin (dir.), Charles Chaplin, Virginia Cherrill 8.431495750592722\n",
      "53 - Apocalypse Now (1979) - Starring: Francis Ford Coppola (dir.), Martin Sheen, Marlon Brando 8.422574097183512\n",
      "54 - Memento (2000) - Starring: Christopher Nolan (dir.), Guy Pearce, Carrie-Anne Moss 8.418598770590876\n",
      "55 - Django Unchained (2012) - Starring: Quentin Tarantino (dir.), Jamie Foxx, Christoph Waltz 8.409663882330253\n",
      "56 - Raiders of the Lost Ark (1981) - Starring: Steven Spielberg (dir.), Harrison Ford, Karen Allen 8.405624663128952\n",
      "57 - WALL·E (2008) - Starring: Andrew Stanton (dir.), Ben Burtt, Elissa Knight 8.395598058345989\n",
      "58 - The Lives of Others (2006) - Starring: Florian Henckel von Donnersmarck (dir.), Ulrich Mühe, Martina Gedeck 8.383404636924807\n",
      "59 - Sunset Blvd (1950) - Starring: Billy Wilder (dir.), William Holden, Gloria Swanson 8.378615984953251\n",
      "60 - Paths of Glory (1957) - Starring: Stanley Kubrick (dir.), Kirk Douglas, Ralph Meeker 8.371368767739721\n",
      "61 - The Shining (1980) - Starring: Stanley Kubrick (dir.), Jack Nicholson, Shelley Duvall 8.36464993714234\n",
      "62 - The Great Dictator (1940) - Starring: Charles Chaplin (dir.), Charles Chaplin, Paulette Goddard 8.363535871751946\n",
      "63 - Avengers: Infinity War (2018) - Starring: Anthony Russo (dir.), Robert Downey Jr., Chris Hemsworth 8.362179366194836\n",
      "64 - Witness for the Prosecution (1957) - Starring: Billy Wilder (dir.), Tyrone Power, Marlene Dietrich 8.359406443713953\n",
      "65 - Aliens (1986) - Starring: James Cameron (dir.), Sigourney Weaver, Michael Biehn 8.342762230105018\n",
      "66 - Spider-Man: Into the Spider-Verse (2018) - Starring: Bob Persichetti (dir.), Shameik Moore, Jake Johnson 8.339656932867111\n",
      "67 - American Beauty (1999) - Starring: Sam Mendes (dir.), Kevin Spacey, Annette Bening 8.329023512776487\n",
      "68 - Dr Strangelove or: How I Learned to Stop Worrying and Love the Bomb (1964) - Starring: Stanley Kubrick (dir.), Peter Sellers, George C. Scott 8.326527926421747\n",
      "69 - The Dark Knight Rises (2012) - Starring: Christopher Nolan (dir.), Christian Bale, Tom Hardy 8.325933608049922\n",
      "70 - Oldeuboi (2003) - Starring: Park Chan-wook (dir.), Choi Min-sik, Yoo Ji-tae 8.319945331135878\n",
      "71 - Inglourious Basterds (2009) - Starring: Quentin Tarantino (dir.), Brad Pitt, Diane Kruger 8.31945810837329\n",
      "72 - Amadeus (1984) - Starring: Milos Forman (dir.), F. Murray Abraham, Tom Hulce 8.316283116071656\n",
      "73 - Coco (2017) - Starring: Lee Unkrich (dir.), Anthony Gonzalez, Gael García Bernal 8.315222289121142\n",
      "74 - Toy Story (1995) - Starring: John Lasseter (dir.), Tom Hanks, Tim Allen 8.314074513554441\n",
      "75 - Braveheart (1995) - Starring: Mel Gibson (dir.), Mel Gibson, Sophie Marceau 8.312476850632121\n",
      "76 - Joker (2019) - Starring: Todd Phillips (dir.), Joaquin Phoenix, Robert De Niro 8.312117770782075\n",
      "77 - Das Boot (1981) - Starring: Wolfgang Petersen (dir.), Jürgen Prochnow, Herbert Grönemeyer 8.311461265311328\n",
      "78 - Avengers: Endgame (2019) - Starring: Anthony Russo (dir.), Robert Downey Jr., Chris Evans 8.303479094887876\n",
      "79 - Mononoke-hime (1997) - Starring: Hayao Miyazaki (dir.), Yôji Matsuda, Yuriko Ishida 8.303023871283333\n",
      "80 - Once Upon a Time in America (1984) - Starring: Sergio Leone (dir.), Robert De Niro, James Woods 8.29431595933413\n",
      "81 - Good Will Hunting (1997) - Starring: Gus Van Sant (dir.), Robin Williams, Matt Damon 8.29352607541831\n",
      "82 - Kimi no na wa (2016) - Starring: Makoto Shinkai (dir.), Ryunosuke Kamiki, Mone Kamishiraishi 8.28403453059677\n",
      "83 - Singin' in the Rain (1952) - Starring: Stanley Donen (dir.), Gene Kelly, Donald O'Connor 8.275274916246138\n",
      "84 - 3 Idiots (2009) - Starring: Rajkumar Hirani (dir.), Aamir Khan, Madhavan 8.274658755151973\n",
      "85 - Requiem for a Dream (2000) - Starring: Darren Aronofsky (dir.), Ellen Burstyn, Jared Leto 8.273260457029343\n",
      "86 - Tengoku to jigoku (1963) - Starring: Akira Kurosawa (dir.), Toshirô Mifune, Yutaka Sada 8.272743608474673\n",
      "87 - Toy Story 3 (2010) - Starring: Lee Unkrich (dir.), Tom Hanks, Tim Allen 8.270034966390934\n",
      "88 - Capharnaüm (2018) - Starring: Nadine Labaki (dir.), Zain Al Rafeea, Yordanos Shiferaw 8.267884054459428\n",
      "89 - Star Wars: Episode VI - Return of the Jedi (1983) - Starring: Richard Marquand (dir.), Mark Hamill, Harrison Ford 8.264032308316018\n",
      "90 - 2001: A Space Odyssey (1968) - Starring: Stanley Kubrick (dir.), Keir Dullea, Gary Lockwood 8.261363934041798\n",
      "91 - Eternal Sunshine of the Spotless Mind (2004) - Starring: Michel Gondry (dir.), Jim Carrey, Kate Winslet 8.261115959967041\n",
      "92 - Idi i smotri (1985) - Starring: Elem Klimov (dir.), Aleksey Kravchenko, Olga Mironova 8.259561616794258\n",
      "93 - Reservoir Dogs (1992) - Starring: Quentin Tarantino (dir.), Harvey Keitel, Tim Roth 8.258014737510962\n",
      "94 - Jagten (2012) - Starring: Thomas Vinterberg (dir.), Mads Mikkelsen, Thomas Bo Larsen 8.2571820284948\n",
      "95 - Citizen Kane (1941) - Starring: Orson Welles (dir.), Orson Welles, Joseph Cotten 8.24907177627927\n",
      "96 - Lawrence of Arabia (1962) - Starring: David Lean (dir.), Peter O'Toole, Alec Guinness 8.24874981869624\n",
      "97 - M - Eine Stadt sucht einen Mörder (1931) - Starring: Fritz Lang (dir.), Peter Lorre, Ellen Widmann 8.24826617655884\n",
      "98 - Ikiru (1952) - Starring: Akira Kurosawa (dir.), Takashi Shimura, Nobuo Kaneko 8.245605326446517\n",
      "99 - North by Northwest (1959) - Starring: Alfred Hitchcock (dir.), Cary Grant, Eva Marie Saint 8.24500898821676\n",
      "10 -  Vertigo (1958) - Starring: Alfred Hitchcock (dir.), James Stewart, Kim Novak 8.242305522958729\n",
      "101 - The Apartment (1960) - Starring: Billy Wilder (dir.), Jack Lemmon, Shirley MacLaine 8.241819245615753\n",
      "102 - Le fabuleux destin d'Amélie Poulain (2001) - Starring: Jean-Pierre Jeunet (dir.), Audrey Tautou, Mathieu Kassovitz 8.240281154964789\n",
      "103 - Double Indemnity (1944) - Starring: Billy Wilder (dir.), Fred MacMurray, Barbara Stanwyck 8.23803082714815\n",
      "104 - A Clockwork Orange (1971) - Starring: Stanley Kubrick (dir.), Malcolm McDowell, Patrick Magee 8.237306645569687\n",
      "105 - Full Metal Jacket (1987) - Starring: Stanley Kubrick (dir.), Matthew Modine, R. Lee Ermey 8.236489463510239\n",
      "106 - Scarface (1983) - Starring: Brian De Palma (dir.), Al Pacino, Michelle Pfeiffer 8.234964594118694\n",
      "107 - Hamilton (2020) - Starring: Thomas Kail (dir.), Lin-Manuel Miranda, Phillipa Soo 8.229769035316753\n",
      "108 - Incendies (2010) - Starring: Denis Villeneuve (dir.), Lubna Azabal, Mélissa Désormeaux-Poulin 8.227158895078949\n",
      "109 - Heat (1995) - Starring: Michael Mann (dir.), Al Pacino, Robert De Niro 8.22601803726755\n",
      "110 - To Kill a Mockingbird (1962) - Starring: Robert Mulligan (dir.), Gregory Peck, John Megna 8.225318352471067\n",
      "111 - Up (2009) - Starring: Pete Docter (dir.), Edward Asner, Jordan Nagai 8.224813161319911\n",
      "112 - The Sting (1973) - Starring: George Roy Hill (dir.), Paul Newman, Robert Redford 8.224440948393926\n",
      "113 - Jodaeiye Nader az Simin (2011) - Starring: Asghar Farhadi (dir.), Payman Maadi, Leila Hatami 8.221202869484403\n",
      "114 - Metropolis (1927) - Starring: Fritz Lang (dir.), Brigitte Helm, Alfred Abel 8.220733746893309\n",
      "115 - Taxi Driver (1976) - Starring: Martin Scorsese (dir.), Robert De Niro, Jodie Foster 8.21801623889923\n",
      "116 - LA Confidential (1997) - Starring: Curtis Hanson (dir.), Kevin Spacey, Russell Crowe 8.217993948649156\n",
      "117 - Die Hard (1988) - Starring: John McTiernan (dir.), Bruce Willis, Alan Rickman 8.217402358892725\n",
      "118 - Indiana Jones and the Last Crusade (1989) - Starring: Steven Spielberg (dir.), Harrison Ford, Sean Connery 8.21652280635299\n",
      "119 - Snatch (2000) - Starring: Guy Ritchie (dir.), Jason Statham, Brad Pitt 8.216484666742387\n",
      "120 - Ladri di biciclette (1948) - Starring: Vittorio De Sica (dir.), Lamberto Maggiorani, Enzo Staiola 8.21544003666419\n",
      "121 - Taare Zameen Par (2007) - Starring: Aamir Khan (dir.), Darsheel Safary, Aamir Khan 8.212043473795333\n",
      "122 - 1917 (2019) - Starring: Sam Mendes (dir.), Dean-Charles Chapman, George MacKay 8.210998946541377\n",
      "123 - Top Gun: Maverick (2022) - Starring: Joseph Kosinski (dir.), Tom Cruise, Jennifer Connelly 8.210368951767569\n",
      "124 - Der Untergang (2004) - Starring: Oliver Hirschbiegel (dir.), Bruno Ganz, Alexandra Maria Lara 8.20308807685429\n",
      "125 - Dangal (2016) - Starring: Nitesh Tiwari (dir.), Aamir Khan, Sakshi Tanwar 8.199204607006033\n",
      "126 - Per qualche dollaro in più (1965) - Starring: Sergio Leone (dir.), Clint Eastwood, Lee Van Cleef 8.198730363803827\n",
      "127 - Batman Begins (2005) - Starring: Christopher Nolan (dir.), Christian Bale, Michael Caine 8.196829034019544\n",
      "128 - The Kid (1921) - Starring: Charles Chaplin (dir.), Charles Chaplin, Edna Purviance 8.19041024183788\n",
      "129 - Some Like It Hot (1959) - Starring: Billy Wilder (dir.), Marilyn Monroe, Tony Curtis 8.190155537855718\n",
      "130 - The Father (2020) - Starring: Florian Zeller (dir.), Anthony Hopkins, Olivia Colman 8.181966803691456\n",
      "131 - All About Eve (1950) - Starring: Joseph L. Mankiewicz (dir.), Bette Davis, Anne Baxter 8.179851745377235\n",
      "132 - The Wolf of Wall Street (2013) - Starring: Martin Scorsese (dir.), Leonardo DiCaprio, Jonah Hill 8.178623356701868\n",
      "133 - Green Book (2018) - Starring: Peter Farrelly (dir.), Viggo Mortensen, Mahershala Ali 8.177761012587748\n",
      "134 - Judgment at Nuremberg (1961) - Starring: Stanley Kramer (dir.), Spencer Tracy, Burt Lancaster 8.171248188938165\n",
      "135 - Ran (1985) - Starring: Akira Kurosawa (dir.), Tatsuya Nakadai, Akira Terao 8.164453132183137\n",
      "136 - Casino (1995) - Starring: Martin Scorsese (dir.), Robert De Niro, Sharon Stone 8.163940432643678\n",
      "137 - The Truman Show (1998) - Starring: Peter Weir (dir.), Jim Carrey, Ed Harris 8.162213138908688\n",
      "138 - There Will Be Blood (2007) - Starring: Paul Thomas Anderson (dir.), Daniel Day-Lewis, Paul Dano 8.160956105948207\n",
      "139 - Pan's Labyrinth (2006) - Starring: Guillermo del Toro (dir.), Ivana Baquero, Ariadna Gil 8.16001810997905\n",
      "140 - Unforgiven (1992) - Starring: Clint Eastwood (dir.), Clint Eastwood, Gene Hackman 8.15814805984972\n",
      "141 - The Sixth Sense (1999) - Starring: M. Night Shyamalan (dir.), Bruce Willis, Haley Joel Osment 8.154807037989444\n",
      "142 - Shutter Island (2010) - Starring: Martin Scorsese (dir.), Leonardo DiCaprio, Emily Mortimer 8.154273347792557\n",
      "143 - A Beautiful Mind (2001) - Starring: Ron Howard (dir.), Russell Crowe, Ed Harris 8.150603262735073\n",
      "144 - Jurassic Park (1993) - Starring: Steven Spielberg (dir.), Sam Neill, Laura Dern 8.149969357786642\n",
      "145 - Yôjinbô (1961) - Starring: Akira Kurosawa (dir.), Toshirô Mifune, Eijirô Tôno 8.147195417866298\n",
      "146 - The Treasure of the Sierra Madre (1948) - Starring: John Huston (dir.), Humphrey Bogart, Walter Huston 8.146979702106352\n",
      "147 - Monty Python and the Holy Grail (1975) - Starring: Terry Gilliam (dir.), Graham Chapman, John Cleese 8.144731599767413\n",
      "148 - No Country for Old Men (2007) - Starring: Ethan Coen (dir.), Tommy Lee Jones, Javier Bardem 8.140640890153838\n",
      "149 - The Great Escape (1963) - Starring: John Sturges (dir.), Steve McQueen, James Garner 8.13926245637503\n",
      "150 - Kill Bill: Vol 1 (2003) - Starring: Quentin Tarantino (dir.), Uma Thurman, David Carradine 8.139243369663577\n",
      "151 - Rashômon (1950) - Starring: Akira Kurosawa (dir.), Toshirô Mifune, Machiko Kyô 8.137185606714816\n",
      "152 - The Thing (1982) - Starring: John Carpenter (dir.), Kurt Russell, Wilford Brimley 8.13463700310468\n",
      "153 - Spider-Man: No Way Home (2021) - Starring: Jon Watts (dir.), Tom Holland, Zendaya 8.13210358385319\n",
      "154 - Finding Nemo (2003) - Starring: Andrew Stanton (dir.), Albert Brooks, Ellen DeGeneres 8.131198494281062\n",
      "155 - The Elephant Man (1980) - Starring: David Lynch (dir.), Anthony Hopkins, John Hurt 8.126420880133695\n",
      "156 - Chinatown (1974) - Starring: Roman Polanski (dir.), Jack Nicholson, Faye Dunaway 8.12502247014078\n",
      "157 - Raging Bull (1980) - Starring: Martin Scorsese (dir.), Robert De Niro, Cathy Moriarty 8.12226794275963\n",
      "158 - V for Vendetta (2005) - Starring: James McTeigue (dir.), Hugo Weaving, Natalie Portman 8.122056048780658\n",
      "159 - Gone with the Wind (1939) - Starring: Victor Fleming (dir.), Clark Gable, Vivien Leigh 8.121216502874875\n",
      "160 - Lock, Stock and Two Smoking Barrels (1998) - Starring: Guy Ritchie (dir.), Jason Flemyng, Dexter Fletcher 8.11967768762445\n",
      "161 - Dial M for Murder (1954) - Starring: Alfred Hitchcock (dir.), Ray Milland, Grace Kelly 8.119396622122071\n",
      "162 - Inside Out (2015) - Starring: Pete Docter (dir.), Amy Poehler, Bill Hader 8.119180266117665\n",
      "163 - El secreto de sus ojos (2009) - Starring: Juan José Campanella (dir.), Ricardo Darín, Soledad Villamil 8.117838119220748\n",
      "164 - Hauru no ugoku shiro (2004) - Starring: Hayao Miyazaki (dir.), Chieko Baisho, Takuya Kimura 8.117630758760784\n",
      "165 - Three Billboards Outside Ebbing, Missouri (2017) - Starring: Martin McDonagh (dir.), Frances McDormand, Woody Harrelson 8.111255076311876\n",
      "166 - Trainspotting (1996) - Starring: Danny Boyle (dir.), Ewan McGregor, Ewen Bremner 8.11013408581238\n",
      "167 - The Bridge on the River Kwai (1957) - Starring: David Lean (dir.), William Holden, Alec Guinness 8.109926227002315\n",
      "168 - Prisoners (2013) - Starring: Denis Villeneuve (dir.), Hugh Jackman, Jake Gyllenhaal 8.107704431286184\n",
      "169 - John Wick: Chapter 4 (2023) - Starring: Chad Stahelski (dir.), Keanu Reeves, Laurence Fishburne 8.105907696409785\n",
      "170 - Warrior (2011) - Starring: Gavin O'Connor (dir.), Tom Hardy, Nick Nolte 8.102295301916548\n",
      "171 - Fargo (1996) - Starring: Joel Coen (dir.), William H. Macy, Frances McDormand 8.102280565922909\n",
      "172 - Gran Torino (2008) - Starring: Clint Eastwood (dir.), Clint Eastwood, Bee Vang 8.099866689400569\n",
      "173 - Catch Me If You Can (2002) - Starring: Steven Spielberg (dir.), Leonardo DiCaprio, Tom Hanks 8.0919613093591\n",
      "174 - Tonari no Totoro (1988) - Starring: Hayao Miyazaki (dir.), Hitoshi Takagi, Noriko Hidaka 8.091734247179597\n",
      "175 - Million Dollar Baby (2004) - Starring: Clint Eastwood (dir.), Hilary Swank, Clint Eastwood 8.088395079321279\n",
      "176 - Bacheha-Ye aseman (1997) - Starring: Majid Majidi (dir.), Mohammad Amir Naji, Amir Farrokh Hashemian 8.08629871348987\n",
      "177 - Blade Runner (1982) - Starring: Ridley Scott (dir.), Harrison Ford, Rutger Hauer 8.084543290625502\n",
      "178 - The Gold Rush (1925) - Starring: Charles Chaplin (dir.), Charles Chaplin, Mack Swain 8.084056718642561\n",
      "179 - Klaus (2019) - Starring: Sergio Pablos (dir.), Jason Schwartzman, J.K. Simmons 8.082463146472222\n",
      "180 - Harry Potter and the Deathly Hallows: Part 2 (2011) - Starring: David Yates (dir.), Daniel Radcliffe, Emma Watson 8.081229648754062\n",
      "181 - Before Sunrise (1995) - Starring: Richard Linklater (dir.), Ethan Hawke, Julie Delpy 8.081040566325454\n",
      "182 - 12 Years a Slave (2013) - Starring: Steve McQueen (dir.), Chiwetel Ejiofor, Michael Kenneth Williams 8.08042387606031\n",
      "183 - Ben-Hur (1959) - Starring: William Wyler (dir.), Charlton Heston, Jack Hawkins 8.078774301070291\n",
      "184 - On the Waterfront (1954) - Starring: Elia Kazan (dir.), Marlon Brando, Karl Malden 8.078251450004034\n",
      "185 - The Grand Budapest Hotel (2014) - Starring: Wes Anderson (dir.), Ralph Fiennes, F. Murray Abraham 8.07785223965205\n",
      "186 - Gone Girl (2014) - Starring: David Fincher (dir.), Ben Affleck, Rosamund Pike 8.07707884408843\n",
      "187 - Smultronstället (1957) - Starring: Ingmar Bergman (dir.), Victor Sjöström, Bibi Andersson 8.075054822814007\n",
      "188 - The General (1926) - Starring: Clyde Bruckman (dir.), Buster Keaton, Marion Mack 8.074762187135049\n",
      "189 - Barry Lyndon (1975) - Starring: Stanley Kubrick (dir.), Ryan O'Neal, Marisa Berenson 8.073982648992333\n",
      "190 - In the Name of the Father (1993) - Starring: Jim Sheridan (dir.), Daniel Day-Lewis, Pete Postlethwaite 8.073401741961597\n",
      "191 - The Deer Hunter (1978) - Starring: Michael Cimino (dir.), Robert De Niro, Christopher Walken 8.073047726609325\n",
      "192 - The Third Man (1949) - Starring: Carol Reed (dir.), Orson Welles, Joseph Cotten 8.071992065055044\n",
      "193 - Hacksaw Ridge (2016) - Starring: Mel Gibson (dir.), Andrew Garfield, Sam Worthington 8.071466612733413\n",
      "194 - Le salaire de la peur (1953) - Starring: Henri-Georges Clouzot (dir.), Yves Montand, Charles Vanel 8.06953696485\n",
      "195 - Salinui chueok (2003) - Starring: Bong Joon Ho (dir.), Song Kang-ho, Kim Sang-kyung 8.069188879233483\n",
      "196 - Relatos salvajes (2014) - Starring: Damián Szifron (dir.), Darío Grandinetti, María Marull 8.067537940383557\n",
      "197 - Sherlock Jr (1924) - Starring: Buster Keaton (dir.), Buster Keaton, Kathryn McGuire 8.067376315375487\n",
      "198 - Mr Smith Goes to Washington (1939) - Starring: Frank Capra (dir.), James Stewart, Jean Arthur 8.066039792312376\n",
      "199 - Mad Max: Fury Road (2015) - Starring: George Miller (dir.), Tom Hardy, Charlize Theron 8.063684949478137\n",
      "200 - Mary and Max (2009) - Starring: Adam Elliot (dir.), Toni Collette, Philip Seymour Hoffman 8.06249301449974\n",
      "201 - Det sjunde inseglet (1957) - Starring: Ingmar Bergman (dir.), Max von Sydow, Gunnar Björnstrand 8.061710511326188\n",
      "202 - How to Train Your Dragon (2010) - Starring: Dean DeBlois (dir.), Jay Baruchel, Gerard Butler 8.061404905658506\n",
      "203 - Monsters, Inc (2001) - Starring: Pete Docter (dir.), Billy Crystal, John Goodman 8.06086279339022\n",
      "204 - Dead Poets Society (1989) - Starring: Peter Weir (dir.), Robin Williams, Robert Sean Leonard 8.060507436485635\n",
      "205 - Jaws (1975) - Starring: Steven Spielberg (dir.), Roy Scheider, Robert Shaw 8.059956070208974\n",
      "206 - Room (2015) - Starring: Lenny Abrahamson (dir.), Brie Larson, Jacob Tremblay 8.059215399879529\n",
      "207 - The Big Lebowski (1998) - Starring: Joel Coen (dir.), Jeff Bridges, John Goodman 8.057711579083506\n",
      "208 - Tôkyô monogatari (1953) - Starring: Yasujirô Ozu (dir.), Chishû Ryû, Chieko Higashiyama 8.055445248558735\n",
      "209 - La passion de Jeanne d'Arc (1928) - Starring: Carl Theodor Dreyer (dir.), Maria Falconetti, Eugene Silvain 8.051306654532178\n",
      "210 - Ford v Ferrari (2019) - Starring: James Mangold (dir.), Matt Damon, Christian Bale 8.050149322490626\n",
      "211 - Hotel Rwanda (2004) - Starring: Terry George (dir.), Don Cheadle, Sophie Okonedo 8.048191603470169\n",
      "212 - Rocky (1976) - Starring: John G. Avildsen (dir.), Sylvester Stallone, Talia Shire 8.046670119037211\n",
      "213 - Platoon (1986) - Starring: Oliver Stone (dir.), Charlie Sheen, Tom Berenger 8.043880853882847\n",
      "214 - Ratatouille (2007) - Starring: Brad Bird (dir.), Brad Garrett, Lou Romano 8.043581383602673\n",
      "215 - Spotlight (2015) - Starring: Tom McCarthy (dir.), Mark Ruffalo, Michael Keaton 8.041026340919219\n",
      "216 - Logan (2017) - Starring: James Mangold (dir.), Hugh Jackman, Patrick Stewart 8.040622806462496\n",
      "217 - The Terminator (1984) - Starring: James Cameron (dir.), Arnold Schwarzenegger, Linda Hamilton 8.040207321706786\n",
      "218 - Stand by Me (1986) - Starring: Rob Reiner (dir.), Wil Wheaton, River Phoenix 8.036462716629892\n",
      "219 - Rush (2013) - Starring: Ron Howard (dir.), Daniel Brühl, Chris Hemsworth 8.03499513253083\n",
      "220 - Network (1976) - Starring: Sidney Lumet (dir.), Faye Dunaway, William Holden 8.034295071822964\n",
      "221 - Before Sunset (2004) - Starring: Richard Linklater (dir.), Ethan Hawke, Julie Delpy 8.032905616429002\n",
      "222 - Into the Wild (2007) - Starring: Sean Penn (dir.), Emile Hirsch, Vince Vaughn 8.030925634297315\n",
      "223 - The Wizard of Oz (1939) - Starring: Victor Fleming (dir.), Judy Garland, Frank Morgan 8.03011680233458\n",
      "224 - The Best Years of Our Lives (1946) - Starring: William Wyler (dir.), Myrna Loy, Dana Andrews 8.02843160097955\n",
      "225 - Groundhog Day (1993) - Starring: Harold Ramis (dir.), Bill Murray, Andie MacDowell 8.026633687343692\n",
      "226 - The Exorcist (1973) - Starring: William Friedkin (dir.), Ellen Burstyn, Max von Sydow 8.026614791622414\n",
      "227 - The Incredibles (2004) - Starring: Brad Bird (dir.), Craig T. Nelson, Samuel L. Jackson 8.025035494919722\n",
      "228 - La haine (1995) - Starring: Mathieu Kassovitz (dir.), Vincent Cassel, Hubert Koundé 8.024336047811142\n",
      "229 - To Be or Not to Be (1942) - Starring: Ernst Lubitsch (dir.), Carole Lombard, Jack Benny 8.02428626368223\n",
      "230 - Pirates of the Caribbean: The Curse of the Black Pearl (2003) - Starring: Gore Verbinski (dir.), Johnny Depp, Geoffrey Rush 8.023566552609546\n",
      "231 - Pather Panchali (1955) - Starring: Satyajit Ray (dir.), Kanu Bannerjee, Karuna Bannerjee 8.023461420012811\n",
      "232 - Hachi: A Dog's Tale (2009) - Starring: Lasse Hallström (dir.), Richard Gere, Joan Allen 8.022284577200615\n",
      "233 - The Grapes of Wrath (1940) - Starring: John Ford (dir.), Henry Fonda, Jane Darwell 8.022004480308945\n",
      "234 - La battaglia di Algeri (1966) - Starring: Gillo Pontecorvo (dir.), Brahim Hadjadj, Jean Martin 8.02190812991789\n",
      "235 - Jai Bhim (2021) - Starring: T.J. Gnanavel (dir.), Suriya, Lijo Mol Jose 8.02138459257511\n",
      "236 - Babam ve Oglum (2005) - Starring: Çagan Irmak (dir.), Çetin Tekindor, Fikret Kuskan 8.02022337274881\n",
      "237 - Amores perros (2000) - Starring: Alejandro G. Iñárritu (dir.), Emilio Echevarría, Gael García Bernal 8.019492989824526\n",
      "238 - Rebecca (1940) - Starring: Alfred Hitchcock (dir.), Laurence Olivier, Joan Fontaine 8.018612957498393\n",
      "239 - Cool Hand Luke (1967) - Starring: Stuart Rosenberg (dir.), Paul Newman, George Kennedy 8.017754517929053\n",
      "240 - Ah-ga-ssi (2016) - Starring: Park Chan-wook (dir.), Kim Min-hee, Ha Jung-woo 8.01766867401321\n",
      "241 - The Sound of Music (1965) - Starring: Robert Wise (dir.), Julie Andrews, Christopher Plummer 8.013355561879516\n",
      "242 - Les quatre cents coups (1959) - Starring: François Truffaut (dir.), Jean-Pierre Léaud, Albert Rémy 8.013238414549953\n",
      "243 - It Happened One Night (1934) - Starring: Frank Capra (dir.), Clark Gable, Claudette Colbert 8.012515568613253\n",
      "244 - Persona (1966) - Starring: Ingmar Bergman (dir.), Bibi Andersson, Liv Ullmann 8.010691712756707\n",
      "245 - Life of Brian (1979) - Starring: Terry Jones (dir.), Graham Chapman, John Cleese 8.008781703044008\n",
      "246 - The Iron Giant (1999) - Starring: Brad Bird (dir.), Eli Marienthal, Harry Connick Jr. 8.006111349493827\n",
      "247 - The Help (2011) - Starring: Tate Taylor (dir.), Viola Davis, Emma Stone 8.005697753318534\n",
      "248 - Aladdin (1992) - Starring: Ron Clements (dir.), Scott Weinger, Robin Williams 8.003780617832938\n",
      "249 - Dersu Uzala (1975) - Starring: Akira Kurosawa (dir.), Maksim Munzuk, Yuriy Solomin 8.003234017405683\n",
      "250 - Dances with Wolves (1990) - Starring: Kevin Costner (dir.), Kevin Costner, Mary McDonnell 8.001480820694189\n"
     ]
    }
   ],
   "source": [
    "for movie in list:\n",
    "    print(movie['place'], '-', movie['movie_title'], '('+movie['year'] +\n",
    "          ') -', 'Starring:', movie['star_cast'], movie['rating'])"
   ]
  },
  {
   "cell_type": "code",
   "execution_count": 7,
   "id": "a05652de",
   "metadata": {},
   "outputs": [],
   "source": [
    "df = pd.DataFrame(list)\n",
    "df.to_csv('movies.csv',index=False)"
   ]
  },
  {
   "cell_type": "code",
   "execution_count": 8,
   "id": "d26b6cf1",
   "metadata": {},
   "outputs": [],
   "source": [
    "#Import csv file using the read_csv function"
   ]
  },
  {
   "cell_type": "code",
   "execution_count": 9,
   "id": "4e2cb081",
   "metadata": {},
   "outputs": [
    {
     "data": {
      "text/html": [
       "<div>\n",
       "<style scoped>\n",
       "    .dataframe tbody tr th:only-of-type {\n",
       "        vertical-align: middle;\n",
       "    }\n",
       "\n",
       "    .dataframe tbody tr th {\n",
       "        vertical-align: top;\n",
       "    }\n",
       "\n",
       "    .dataframe thead th {\n",
       "        text-align: right;\n",
       "    }\n",
       "</style>\n",
       "<table border=\"1\" class=\"dataframe\">\n",
       "  <thead>\n",
       "    <tr style=\"text-align: right;\">\n",
       "      <th></th>\n",
       "      <th>place</th>\n",
       "      <th>movie_title</th>\n",
       "      <th>rating</th>\n",
       "      <th>year</th>\n",
       "      <th>star_cast</th>\n",
       "    </tr>\n",
       "  </thead>\n",
       "  <tbody>\n",
       "    <tr>\n",
       "      <th>0</th>\n",
       "      <td>1</td>\n",
       "      <td>The Shawshank Redemption</td>\n",
       "      <td>9.235873</td>\n",
       "      <td>1994</td>\n",
       "      <td>Frank Darabont (dir.), Tim Robbins, Morgan Fre...</td>\n",
       "    </tr>\n",
       "    <tr>\n",
       "      <th>1</th>\n",
       "      <td>2</td>\n",
       "      <td>The Godfather</td>\n",
       "      <td>9.155773</td>\n",
       "      <td>1972</td>\n",
       "      <td>Francis Ford Coppola (dir.), Marlon Brando, Al...</td>\n",
       "    </tr>\n",
       "    <tr>\n",
       "      <th>2</th>\n",
       "      <td>3</td>\n",
       "      <td>The Dark Knight</td>\n",
       "      <td>8.992032</td>\n",
       "      <td>2008</td>\n",
       "      <td>Christopher Nolan (dir.), Christian Bale, Heat...</td>\n",
       "    </tr>\n",
       "    <tr>\n",
       "      <th>3</th>\n",
       "      <td>4</td>\n",
       "      <td>The Godfather Part II</td>\n",
       "      <td>8.983789</td>\n",
       "      <td>1974</td>\n",
       "      <td>Francis Ford Coppola (dir.), Al Pacino, Robert...</td>\n",
       "    </tr>\n",
       "    <tr>\n",
       "      <th>4</th>\n",
       "      <td>5</td>\n",
       "      <td>12 Angry Men</td>\n",
       "      <td>8.953560</td>\n",
       "      <td>1957</td>\n",
       "      <td>Sidney Lumet (dir.), Henry Fonda, Lee J. Cobb</td>\n",
       "    </tr>\n",
       "  </tbody>\n",
       "</table>\n",
       "</div>"
      ],
      "text/plain": [
       "   place               movie_title    rating  year  \\\n",
       "0      1  The Shawshank Redemption  9.235873  1994   \n",
       "1      2             The Godfather  9.155773  1972   \n",
       "2      3           The Dark Knight  8.992032  2008   \n",
       "3      4     The Godfather Part II  8.983789  1974   \n",
       "4      5              12 Angry Men  8.953560  1957   \n",
       "\n",
       "                                           star_cast  \n",
       "0  Frank Darabont (dir.), Tim Robbins, Morgan Fre...  \n",
       "1  Francis Ford Coppola (dir.), Marlon Brando, Al...  \n",
       "2  Christopher Nolan (dir.), Christian Bale, Heat...  \n",
       "3  Francis Ford Coppola (dir.), Al Pacino, Robert...  \n",
       "4      Sidney Lumet (dir.), Henry Fonda, Lee J. Cobb  "
      ]
     },
     "execution_count": 9,
     "metadata": {},
     "output_type": "execute_result"
    }
   ],
   "source": [
    "import pandas as pd\n",
    "data = pd.read_csv(\"movies.csv\")\n",
    "data.head()"
   ]
  },
  {
   "cell_type": "code",
   "execution_count": 10,
   "id": "283d19a9",
   "metadata": {},
   "outputs": [],
   "source": [
    "#Remove html tags and emojis "
   ]
  },
  {
   "cell_type": "code",
   "execution_count": 11,
   "id": "315e46d3",
   "metadata": {},
   "outputs": [
    {
     "data": {
      "text/plain": [
       "<function html.unescape(s)>"
      ]
     },
     "execution_count": 11,
     "metadata": {},
     "output_type": "execute_result"
    }
   ],
   "source": [
    "from html.parser import HTMLParser\n",
    "import html\n",
    "html.unescape"
   ]
  },
  {
   "cell_type": "code",
   "execution_count": 12,
   "id": "38f48560",
   "metadata": {},
   "outputs": [],
   "source": [
    "tweet=\"I enjoyd the event which took place yesteday & I lovdddd itttt! It's awesome you'll luv it #HadFun #Enjoyed\" \n"
   ]
  },
  {
   "cell_type": "code",
   "execution_count": 13,
   "id": "24748538",
   "metadata": {},
   "outputs": [],
   "source": [
    "tweet = re.sub(r'#', '', tweet)"
   ]
  },
  {
   "cell_type": "code",
   "execution_count": 14,
   "id": "675c65ac",
   "metadata": {},
   "outputs": [
    {
     "name": "stdout",
     "output_type": "stream",
     "text": [
      "After removing Hashtags the tweet is:-\n",
      "I enjoyd the event which took place yesteday & I lovdddd itttt! It's awesome you'll luv it HadFun Enjoyed\n"
     ]
    }
   ],
   "source": [
    "print(\"After removing Hashtags the tweet is:-\\n{}\".format(tweet))"
   ]
  },
  {
   "cell_type": "code",
   "execution_count": 15,
   "id": "60255d7f",
   "metadata": {},
   "outputs": [],
   "source": [
    "#Stemming words"
   ]
  },
  {
   "cell_type": "code",
   "execution_count": 16,
   "id": "58c6a06c",
   "metadata": {},
   "outputs": [
    {
     "name": "stdout",
     "output_type": "stream",
     "text": [
      "run  :  run\n",
      "ran  :  ran\n",
      "running  :  run\n"
     ]
    }
   ],
   "source": [
    "from nltk.stem import PorterStemmer\n",
    "from nltk.tokenize import word_tokenize\n",
    "ps = PorterStemmer() \n",
    "words = ['run','ran','running']\n",
    "for x in words:\n",
    "    print(x, \" : \", ps.stem(x))"
   ]
  },
  {
   "cell_type": "code",
   "execution_count": 17,
   "id": "ea976b78",
   "metadata": {},
   "outputs": [
    {
     "data": {
      "text/plain": [
       "'run'"
      ]
     },
     "execution_count": 17,
     "metadata": {},
     "output_type": "execute_result"
    }
   ],
   "source": [
    "ps.stem('runs')"
   ]
  },
  {
   "cell_type": "code",
   "execution_count": 18,
   "id": "76260318",
   "metadata": {},
   "outputs": [],
   "source": [
    "#Stemming sentence"
   ]
  },
  {
   "cell_type": "code",
   "execution_count": 19,
   "id": "5d1773f1",
   "metadata": {},
   "outputs": [
    {
     "name": "stderr",
     "output_type": "stream",
     "text": [
      "[nltk_data] Downloading package punkt to\n",
      "[nltk_data]     C:\\Users\\harsh\\AppData\\Roaming\\nltk_data...\n",
      "[nltk_data]   Package punkt is already up-to-date!\n"
     ]
    },
    {
     "data": {
      "text/plain": [
       "True"
      ]
     },
     "execution_count": 19,
     "metadata": {},
     "output_type": "execute_result"
    }
   ],
   "source": [
    "import nltk\n",
    "nltk.download('punkt')"
   ]
  },
  {
   "cell_type": "code",
   "execution_count": 20,
   "id": "e5b9bdd2",
   "metadata": {},
   "outputs": [
    {
     "name": "stdout",
     "output_type": "stream",
     "text": [
      "The  :  the\n",
      "root  :  root\n",
      "word  :  word\n",
      "is  :  is\n",
      "also  :  also\n",
      "called  :  call\n",
      "the  :  the\n",
      "stem  :  stem\n",
      "and  :  and\n",
      "hence  :  henc\n",
      "the  :  the\n",
      "name  :  name\n",
      "stemming  :  stem\n"
     ]
    }
   ],
   "source": [
    "from nltk.stem import PorterStemmer\n",
    "from nltk.tokenize import word_tokenize\n",
    "ps = PorterStemmer()\n",
    "sentence = \"The root word is also called the stem and hence the name stemming\" \n",
    "words = word_tokenize(sentence) \n",
    "for x in words:\n",
    "    print(x, \" : \", ps.stem(x))"
   ]
  },
  {
   "cell_type": "code",
   "execution_count": 22,
   "id": "7a1a2249",
   "metadata": {},
   "outputs": [
    {
     "data": {
      "text/plain": [
       "'complic'"
      ]
     },
     "execution_count": 22,
     "metadata": {},
     "output_type": "execute_result"
    }
   ],
   "source": [
    "from nltk.stem.porter import PorterStemmer\n",
    "porter = PorterStemmer()\n",
    "def stemmer(text):\n",
    "    return [porter.stem(word) for word in text.split()]\n",
    "PorterStemmer().stem('complications')"
   ]
  },
  {
   "cell_type": "code",
   "execution_count": 23,
   "id": "b5eebe1c",
   "metadata": {},
   "outputs": [],
   "source": [
    "#vectorizing with Tfidf"
   ]
  },
  {
   "cell_type": "code",
   "execution_count": 24,
   "id": "ff41b113",
   "metadata": {},
   "outputs": [],
   "source": [
    "from sklearn.feature_extraction.text import TfidfVectorizer\n",
    "# list of text documents\n",
    "text = [\"The cycle is ridden on the track.\",\"The bus is driven on the road.\",\"He is driving the bus.\"]"
   ]
  },
  {
   "cell_type": "code",
   "execution_count": 25,
   "id": "c1016f0a",
   "metadata": {},
   "outputs": [
    {
     "name": "stdout",
     "output_type": "stream",
     "text": [
      "{'the': 9, 'cycle': 1, 'is': 5, 'ridden': 7, 'on': 6, 'track': 10, 'bus': 0, 'driven': 2, 'road': 8, 'he': 4, 'driving': 3}\n",
      "[1.28768207 1.69314718 1.69314718 1.69314718 1.69314718 1.\n",
      " 1.28768207 1.69314718 1.69314718 1.         1.69314718]\n"
     ]
    }
   ],
   "source": [
    "vectorizer = TfidfVectorizer()\n",
    "vectorizer.fit(text)\n",
    "print(vectorizer.vocabulary_)\n",
    "print(vectorizer.idf_)"
   ]
  },
  {
   "cell_type": "code",
   "execution_count": 26,
   "id": "e9bffb33",
   "metadata": {},
   "outputs": [
    {
     "name": "stdout",
     "output_type": "stream",
     "text": [
      "['and' 'any' 'document' 'first' 'here' 'is' 'letter' 'one' 'other'\n",
      " 'second' 'the' 'third' 'this']\n",
      "(4, 13)\n"
     ]
    }
   ],
   "source": [
    "from sklearn.feature_extraction.text import TfidfVectorizer\n",
    "corpus = [\n",
    "    'Here is the first letter.',\n",
    "    'This document is the second letter.',\n",
    "    'And this is the third one.',\n",
    "    'Is this any other letter?']\n",
    "\n",
    "vectorizer = TfidfVectorizer()\n",
    "x = vectorizer.fit_transform(corpus)\n",
    "print(vectorizer.get_feature_names_out())\n",
    "print(x.shape)"
   ]
  },
  {
   "cell_type": "code",
   "execution_count": 27,
   "id": "c0ca5b19",
   "metadata": {},
   "outputs": [],
   "source": [
    "#sentiment classifier using tfidf"
   ]
  },
  {
   "cell_type": "code",
   "execution_count": 28,
   "id": "f336e277",
   "metadata": {},
   "outputs": [],
   "source": [
    "#Dataframes from dataset"
   ]
  },
  {
   "cell_type": "code",
   "execution_count": 29,
   "id": "488197fb",
   "metadata": {},
   "outputs": [],
   "source": [
    "import os\n",
    "import pandas as pd\n",
    "import numpy as np\n",
    "from nltk.corpus import stopwords\n",
    "from sklearn.feature_extraction.text import TfidfVectorizer\n",
    "from sklearn.linear_model import LogisticRegression"
   ]
  },
  {
   "cell_type": "code",
   "execution_count": 31,
   "id": "416169f7",
   "metadata": {},
   "outputs": [
    {
     "data": {
      "text/html": [
       "<div>\n",
       "<style scoped>\n",
       "    .dataframe tbody tr th:only-of-type {\n",
       "        vertical-align: middle;\n",
       "    }\n",
       "\n",
       "    .dataframe tbody tr th {\n",
       "        vertical-align: top;\n",
       "    }\n",
       "\n",
       "    .dataframe thead th {\n",
       "        text-align: right;\n",
       "    }\n",
       "</style>\n",
       "<table border=\"1\" class=\"dataframe\">\n",
       "  <thead>\n",
       "    <tr style=\"text-align: right;\">\n",
       "      <th></th>\n",
       "      <th>review</th>\n",
       "      <th>sentiment</th>\n",
       "    </tr>\n",
       "  </thead>\n",
       "  <tbody>\n",
       "    <tr>\n",
       "      <th>0</th>\n",
       "      <td>One of the other reviewers has mentioned that ...</td>\n",
       "      <td>positive</td>\n",
       "    </tr>\n",
       "    <tr>\n",
       "      <th>1</th>\n",
       "      <td>A wonderful little production. &lt;br /&gt;&lt;br /&gt;The...</td>\n",
       "      <td>positive</td>\n",
       "    </tr>\n",
       "    <tr>\n",
       "      <th>2</th>\n",
       "      <td>I thought this was a wonderful way to spend ti...</td>\n",
       "      <td>positive</td>\n",
       "    </tr>\n",
       "    <tr>\n",
       "      <th>3</th>\n",
       "      <td>Basically there's a family where a little boy ...</td>\n",
       "      <td>negative</td>\n",
       "    </tr>\n",
       "    <tr>\n",
       "      <th>4</th>\n",
       "      <td>Petter Mattei's \"Love in the Time of Money\" is...</td>\n",
       "      <td>positive</td>\n",
       "    </tr>\n",
       "  </tbody>\n",
       "</table>\n",
       "</div>"
      ],
      "text/plain": [
       "                                              review sentiment\n",
       "0  One of the other reviewers has mentioned that ...  positive\n",
       "1  A wonderful little production. <br /><br />The...  positive\n",
       "2  I thought this was a wonderful way to spend ti...  positive\n",
       "3  Basically there's a family where a little boy ...  negative\n",
       "4  Petter Mattei's \"Love in the Time of Money\" is...  positive"
      ]
     },
     "execution_count": 31,
     "metadata": {},
     "output_type": "execute_result"
    }
   ],
   "source": [
    "df=pd.read_csv(\"IMDB Dataset.csv\")\n",
    "df.head()"
   ]
  },
  {
   "cell_type": "code",
   "execution_count": 32,
   "id": "10e725f0",
   "metadata": {},
   "outputs": [],
   "source": [
    "#Tokenization\n",
    "def tokenize_data(dataset):\n",
    "    tokenizer = nltk.tokenize.TreebankWordTokenizer()\n",
    "    for i in range(dataset.shape[0]):\n",
    "       dataset[\"reviews\"][i] = tokenizer.tokenize(dataset[\"reviews\"][i])\n",
    "    return dataset"
   ]
  },
  {
   "cell_type": "code",
   "execution_count": 33,
   "id": "49f28a9c",
   "metadata": {},
   "outputs": [],
   "source": [
    "#Stop words\n",
    "def remove_stop_words(dataset):\n",
    "    stop_words = set(stopwords.words('english'))\n",
    "    for i in range(dataset.shape[0]):\n",
    "        dataset[\"reviews\"][i] = ([token.lower() for token in dataset[\"reviews\"][i] if token not in stop_words])\n",
    "    \n",
    "    return dataset"
   ]
  },
  {
   "cell_type": "code",
   "execution_count": 34,
   "id": "4f358113",
   "metadata": {},
   "outputs": [],
   "source": [
    "#Normalization\n",
    "def normalize(dataset):\n",
    "    lemmatizer = nltk.stem.WordNetLemmatizer()\n",
    "    for i in range(dataset.shape[0]):\n",
    "        dataset.reviews[i] = \" \".join([lemmatizer.lemmatize(token) for token in dataset.reviews[i]]).strip()\n",
    "    return dataset"
   ]
  },
  {
   "cell_type": "code",
   "execution_count": 36,
   "id": "5e0b4f4e",
   "metadata": {},
   "outputs": [],
   "source": [
    "#Punctuation and symbols removal\n",
    "def remove_garbage(dataset):\n",
    "    garbage = \"~`!@#$%^&*()_-+={[}]|\\:;'<,>.?/\"\n",
    "    for i in range(dataset.shape[0]):\n",
    "        dataset.reviews[i]=\"\".join([char for char in dataset.reviews[i] if char not in garbage])\n",
    "    return dataset"
   ]
  },
  {
   "cell_type": "code",
   "execution_count": 37,
   "id": "7b13aded",
   "metadata": {},
   "outputs": [],
   "source": [
    "#Feature Extraction\n",
    "def fit_corpus(train_data, test_data):\n",
    "    corpus = pd.DataFrame({\"reviews\": train_data[\"reviews\"]})\n",
    "    corpus.reviews.append(test_data[\"reviews\"], ignore_index=True)\n",
    "    tfidf = TfidfVectorizer(min_df=2, max_df=0.5, ngram_range=(1,2))\n",
    "    tfidf.fit(corpus[\"reviews\"])\n",
    "    return tfidf"
   ]
  },
  {
   "cell_type": "code",
   "execution_count": 38,
   "id": "8f1fda9a",
   "metadata": {},
   "outputs": [],
   "source": [
    "def transform_data(tfidf, dataset):\n",
    "    features = tfidf.transform(dataset[\"reviews\"])\n",
    "    return pd.DataFrame(features.todense(), columns = tfidf.get_feature_names())"
   ]
  },
  {
   "cell_type": "code",
   "execution_count": null,
   "id": "f6234ba8",
   "metadata": {},
   "outputs": [],
   "source": []
  }
 ],
 "metadata": {
  "kernelspec": {
   "display_name": "Python 3 (ipykernel)",
   "language": "python",
   "name": "python3"
  },
  "language_info": {
   "codemirror_mode": {
    "name": "ipython",
    "version": 3
   },
   "file_extension": ".py",
   "mimetype": "text/x-python",
   "name": "python",
   "nbconvert_exporter": "python",
   "pygments_lexer": "ipython3",
   "version": "3.10.9"
  }
 },
 "nbformat": 4,
 "nbformat_minor": 5
}
